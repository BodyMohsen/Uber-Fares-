{
 "cells": [
  {
   "cell_type": "code",
   "execution_count": 1,
   "id": "64677c43",
   "metadata": {
    "id": "64677c43"
   },
   "outputs": [],
   "source": [
    "import pandas as pd\n",
    "import numpy as np\n",
    "import seaborn as sns\n",
    "sns.set(rc={'figure.figsize':(10, 10)}, font_scale=1.2)"
   ]
  },
  {
   "cell_type": "markdown",
   "id": "jQGQ9_pZlo3Y",
   "metadata": {
    "id": "jQGQ9_pZlo3Y"
   },
   "source": [
    "### Read data by pandas\n"
   ]
  },
  {
   "cell_type": "code",
   "execution_count": 2,
   "id": "724f063c",
   "metadata": {
    "id": "724f063c"
   },
   "outputs": [],
   "source": [
    "df = pd.read_csv('uber.csv' , na_values=['0.00'])"
   ]
  },
  {
   "cell_type": "code",
   "execution_count": 3,
   "id": "9bdb1a7a",
   "metadata": {
    "colab": {
     "base_uri": "https://localhost:8080/",
     "height": 678
    },
    "id": "9bdb1a7a",
    "outputId": "7d225917-0558-4553-fe6e-ecc2b2a561ea"
   },
   "outputs": [
    {
     "data": {
      "text/html": [
       "<div>\n",
       "<style scoped>\n",
       "    .dataframe tbody tr th:only-of-type {\n",
       "        vertical-align: middle;\n",
       "    }\n",
       "\n",
       "    .dataframe tbody tr th {\n",
       "        vertical-align: top;\n",
       "    }\n",
       "\n",
       "    .dataframe thead th {\n",
       "        text-align: right;\n",
       "    }\n",
       "</style>\n",
       "<table border=\"1\" class=\"dataframe\">\n",
       "  <thead>\n",
       "    <tr style=\"text-align: right;\">\n",
       "      <th></th>\n",
       "      <th>Unnamed: 0</th>\n",
       "      <th>key</th>\n",
       "      <th>fare_amount</th>\n",
       "      <th>pickup_datetime</th>\n",
       "      <th>pickup_longitude</th>\n",
       "      <th>pickup_latitude</th>\n",
       "      <th>dropoff_longitude</th>\n",
       "      <th>dropoff_latitude</th>\n",
       "      <th>passenger_count</th>\n",
       "    </tr>\n",
       "  </thead>\n",
       "  <tbody>\n",
       "    <tr>\n",
       "      <th>0</th>\n",
       "      <td>24238194</td>\n",
       "      <td>2015-05-07 19:52:06.0000003</td>\n",
       "      <td>7.5</td>\n",
       "      <td>2015-05-07 19:52:06 UTC</td>\n",
       "      <td>-73.999817</td>\n",
       "      <td>40.738354</td>\n",
       "      <td>-73.999512</td>\n",
       "      <td>40.723217</td>\n",
       "      <td>1.0</td>\n",
       "    </tr>\n",
       "    <tr>\n",
       "      <th>1</th>\n",
       "      <td>27835199</td>\n",
       "      <td>2009-07-17 20:04:56.0000002</td>\n",
       "      <td>7.7</td>\n",
       "      <td>2009-07-17 20:04:56 UTC</td>\n",
       "      <td>-73.994355</td>\n",
       "      <td>40.728225</td>\n",
       "      <td>-73.994710</td>\n",
       "      <td>40.750325</td>\n",
       "      <td>1.0</td>\n",
       "    </tr>\n",
       "    <tr>\n",
       "      <th>2</th>\n",
       "      <td>44984355</td>\n",
       "      <td>2009-08-24 21:45:00.00000061</td>\n",
       "      <td>12.9</td>\n",
       "      <td>2009-08-24 21:45:00 UTC</td>\n",
       "      <td>-74.005043</td>\n",
       "      <td>40.740770</td>\n",
       "      <td>-73.962565</td>\n",
       "      <td>40.772647</td>\n",
       "      <td>1.0</td>\n",
       "    </tr>\n",
       "    <tr>\n",
       "      <th>3</th>\n",
       "      <td>25894730</td>\n",
       "      <td>2009-06-26 08:22:21.0000001</td>\n",
       "      <td>5.3</td>\n",
       "      <td>2009-06-26 08:22:21 UTC</td>\n",
       "      <td>-73.976124</td>\n",
       "      <td>40.790844</td>\n",
       "      <td>-73.965316</td>\n",
       "      <td>40.803349</td>\n",
       "      <td>3.0</td>\n",
       "    </tr>\n",
       "    <tr>\n",
       "      <th>4</th>\n",
       "      <td>17610152</td>\n",
       "      <td>2014-08-28 17:47:00.000000188</td>\n",
       "      <td>16.0</td>\n",
       "      <td>2014-08-28 17:47:00 UTC</td>\n",
       "      <td>-73.925023</td>\n",
       "      <td>40.744085</td>\n",
       "      <td>-73.973082</td>\n",
       "      <td>40.761247</td>\n",
       "      <td>5.0</td>\n",
       "    </tr>\n",
       "    <tr>\n",
       "      <th>...</th>\n",
       "      <td>...</td>\n",
       "      <td>...</td>\n",
       "      <td>...</td>\n",
       "      <td>...</td>\n",
       "      <td>...</td>\n",
       "      <td>...</td>\n",
       "      <td>...</td>\n",
       "      <td>...</td>\n",
       "      <td>...</td>\n",
       "    </tr>\n",
       "    <tr>\n",
       "      <th>199995</th>\n",
       "      <td>42598914</td>\n",
       "      <td>2012-10-28 10:49:00.00000053</td>\n",
       "      <td>3.0</td>\n",
       "      <td>2012-10-28 10:49:00 UTC</td>\n",
       "      <td>-73.987042</td>\n",
       "      <td>40.739367</td>\n",
       "      <td>-73.986525</td>\n",
       "      <td>40.740297</td>\n",
       "      <td>1.0</td>\n",
       "    </tr>\n",
       "    <tr>\n",
       "      <th>199996</th>\n",
       "      <td>16382965</td>\n",
       "      <td>2014-03-14 01:09:00.0000008</td>\n",
       "      <td>7.5</td>\n",
       "      <td>2014-03-14 01:09:00 UTC</td>\n",
       "      <td>-73.984722</td>\n",
       "      <td>40.736837</td>\n",
       "      <td>-74.006672</td>\n",
       "      <td>40.739620</td>\n",
       "      <td>1.0</td>\n",
       "    </tr>\n",
       "    <tr>\n",
       "      <th>199997</th>\n",
       "      <td>27804658</td>\n",
       "      <td>2009-06-29 00:42:00.00000078</td>\n",
       "      <td>30.9</td>\n",
       "      <td>2009-06-29 00:42:00 UTC</td>\n",
       "      <td>-73.986017</td>\n",
       "      <td>40.756487</td>\n",
       "      <td>-73.858957</td>\n",
       "      <td>40.692588</td>\n",
       "      <td>2.0</td>\n",
       "    </tr>\n",
       "    <tr>\n",
       "      <th>199998</th>\n",
       "      <td>20259894</td>\n",
       "      <td>2015-05-20 14:56:25.0000004</td>\n",
       "      <td>14.5</td>\n",
       "      <td>2015-05-20 14:56:25 UTC</td>\n",
       "      <td>-73.997124</td>\n",
       "      <td>40.725452</td>\n",
       "      <td>-73.983215</td>\n",
       "      <td>40.695415</td>\n",
       "      <td>1.0</td>\n",
       "    </tr>\n",
       "    <tr>\n",
       "      <th>199999</th>\n",
       "      <td>11951496</td>\n",
       "      <td>2010-05-15 04:08:00.00000076</td>\n",
       "      <td>14.1</td>\n",
       "      <td>2010-05-15 04:08:00 UTC</td>\n",
       "      <td>-73.984395</td>\n",
       "      <td>40.720077</td>\n",
       "      <td>-73.985508</td>\n",
       "      <td>40.768793</td>\n",
       "      <td>1.0</td>\n",
       "    </tr>\n",
       "  </tbody>\n",
       "</table>\n",
       "<p>200000 rows × 9 columns</p>\n",
       "</div>"
      ],
      "text/plain": [
       "        Unnamed: 0                            key  fare_amount  \\\n",
       "0         24238194    2015-05-07 19:52:06.0000003          7.5   \n",
       "1         27835199    2009-07-17 20:04:56.0000002          7.7   \n",
       "2         44984355   2009-08-24 21:45:00.00000061         12.9   \n",
       "3         25894730    2009-06-26 08:22:21.0000001          5.3   \n",
       "4         17610152  2014-08-28 17:47:00.000000188         16.0   \n",
       "...            ...                            ...          ...   \n",
       "199995    42598914   2012-10-28 10:49:00.00000053          3.0   \n",
       "199996    16382965    2014-03-14 01:09:00.0000008          7.5   \n",
       "199997    27804658   2009-06-29 00:42:00.00000078         30.9   \n",
       "199998    20259894    2015-05-20 14:56:25.0000004         14.5   \n",
       "199999    11951496   2010-05-15 04:08:00.00000076         14.1   \n",
       "\n",
       "                pickup_datetime  pickup_longitude  pickup_latitude  \\\n",
       "0       2015-05-07 19:52:06 UTC        -73.999817        40.738354   \n",
       "1       2009-07-17 20:04:56 UTC        -73.994355        40.728225   \n",
       "2       2009-08-24 21:45:00 UTC        -74.005043        40.740770   \n",
       "3       2009-06-26 08:22:21 UTC        -73.976124        40.790844   \n",
       "4       2014-08-28 17:47:00 UTC        -73.925023        40.744085   \n",
       "...                         ...               ...              ...   \n",
       "199995  2012-10-28 10:49:00 UTC        -73.987042        40.739367   \n",
       "199996  2014-03-14 01:09:00 UTC        -73.984722        40.736837   \n",
       "199997  2009-06-29 00:42:00 UTC        -73.986017        40.756487   \n",
       "199998  2015-05-20 14:56:25 UTC        -73.997124        40.725452   \n",
       "199999  2010-05-15 04:08:00 UTC        -73.984395        40.720077   \n",
       "\n",
       "        dropoff_longitude  dropoff_latitude  passenger_count  \n",
       "0              -73.999512         40.723217              1.0  \n",
       "1              -73.994710         40.750325              1.0  \n",
       "2              -73.962565         40.772647              1.0  \n",
       "3              -73.965316         40.803349              3.0  \n",
       "4              -73.973082         40.761247              5.0  \n",
       "...                   ...               ...              ...  \n",
       "199995         -73.986525         40.740297              1.0  \n",
       "199996         -74.006672         40.739620              1.0  \n",
       "199997         -73.858957         40.692588              2.0  \n",
       "199998         -73.983215         40.695415              1.0  \n",
       "199999         -73.985508         40.768793              1.0  \n",
       "\n",
       "[200000 rows x 9 columns]"
      ]
     },
     "execution_count": 3,
     "metadata": {},
     "output_type": "execute_result"
    }
   ],
   "source": [
    "df"
   ]
  },
  {
   "cell_type": "code",
   "execution_count": 4,
   "id": "2069dbde",
   "metadata": {
    "colab": {
     "base_uri": "https://localhost:8080/"
    },
    "id": "2069dbde",
    "outputId": "d9df7785-a6d9-4121-840d-c82aca75b8ce"
   },
   "outputs": [
    {
     "name": "stdout",
     "output_type": "stream",
     "text": [
      "<class 'pandas.core.frame.DataFrame'>\n",
      "RangeIndex: 200000 entries, 0 to 199999\n",
      "Data columns (total 9 columns):\n",
      " #   Column             Non-Null Count   Dtype  \n",
      "---  ------             --------------   -----  \n",
      " 0   Unnamed: 0         200000 non-null  int64  \n",
      " 1   key                200000 non-null  object \n",
      " 2   fare_amount        199995 non-null  float64\n",
      " 3   pickup_datetime    200000 non-null  object \n",
      " 4   pickup_longitude   196214 non-null  float64\n",
      " 5   pickup_latitude    196218 non-null  float64\n",
      " 6   dropoff_longitude  196235 non-null  float64\n",
      " 7   dropoff_latitude   196241 non-null  float64\n",
      " 8   passenger_count    199291 non-null  float64\n",
      "dtypes: float64(6), int64(1), object(2)\n",
      "memory usage: 13.7+ MB\n"
     ]
    }
   ],
   "source": [
    "df.info()"
   ]
  },
  {
   "cell_type": "markdown",
   "id": "2A13A_I7l00m",
   "metadata": {
    "id": "2A13A_I7l00m"
   },
   "source": [
    "### Check missing Value"
   ]
  },
  {
   "cell_type": "code",
   "execution_count": 5,
   "id": "7a7fed89",
   "metadata": {
    "colab": {
     "base_uri": "https://localhost:8080/"
    },
    "id": "7a7fed89",
    "outputId": "99c1dcc5-362b-49da-eed4-b607d19b9a8a",
    "scrolled": false
   },
   "outputs": [
    {
     "data": {
      "text/plain": [
       "Unnamed: 0              0\n",
       "key                     0\n",
       "fare_amount             5\n",
       "pickup_datetime         0\n",
       "pickup_longitude     3786\n",
       "pickup_latitude      3782\n",
       "dropoff_longitude    3765\n",
       "dropoff_latitude     3759\n",
       "passenger_count       709\n",
       "dtype: int64"
      ]
     },
     "execution_count": 5,
     "metadata": {},
     "output_type": "execute_result"
    }
   ],
   "source": [
    "df.isna().sum()"
   ]
  },
  {
   "cell_type": "code",
   "execution_count": 6,
   "id": "784d0fba",
   "metadata": {
    "id": "784d0fba"
   },
   "outputs": [],
   "source": [
    "df.dropna(axis=0 , inplace=True)"
   ]
  },
  {
   "cell_type": "markdown",
   "id": "T5fA9EhFmByS",
   "metadata": {
    "id": "T5fA9EhFmByS"
   },
   "source": [
    "### Check duplicated"
   ]
  },
  {
   "cell_type": "code",
   "execution_count": 7,
   "id": "6e9b19c6",
   "metadata": {
    "colab": {
     "base_uri": "https://localhost:8080/"
    },
    "id": "6e9b19c6",
    "outputId": "31024eca-895d-4c9d-b053-8ead81d1ea5b"
   },
   "outputs": [
    {
     "data": {
      "text/plain": [
       "0"
      ]
     },
     "execution_count": 7,
     "metadata": {},
     "output_type": "execute_result"
    }
   ],
   "source": [
    "df.duplicated().sum()"
   ]
  },
  {
   "cell_type": "markdown",
   "id": "YitsmUxumMIh",
   "metadata": {
    "id": "YitsmUxumMIh"
   },
   "source": [
    "### Univariate analysis"
   ]
  },
  {
   "cell_type": "code",
   "execution_count": 8,
   "id": "6e5d931c",
   "metadata": {
    "colab": {
     "base_uri": "https://localhost:8080/"
    },
    "id": "6e5d931c",
    "outputId": "d9f196c1-5489-4b1e-831c-3eb9122c05ee"
   },
   "outputs": [
    {
     "data": {
      "text/plain": [
       "array([-73.99981689, -73.994355  , -74.005043  , ..., -73.969204  ,\n",
       "       -74.003548  , -73.99712372])"
      ]
     },
     "execution_count": 8,
     "metadata": {},
     "output_type": "execute_result"
    }
   ],
   "source": [
    "df['pickup_longitude'].unique()"
   ]
  },
  {
   "cell_type": "code",
   "execution_count": 9,
   "id": "d6a2ca05",
   "metadata": {
    "colab": {
     "base_uri": "https://localhost:8080/",
     "height": 300
    },
    "id": "d6a2ca05",
    "outputId": "e2ce0b1c-ab55-47fc-d575-56f078403080"
   },
   "outputs": [
    {
     "data": {
      "text/html": [
       "<div>\n",
       "<style scoped>\n",
       "    .dataframe tbody tr th:only-of-type {\n",
       "        vertical-align: middle;\n",
       "    }\n",
       "\n",
       "    .dataframe tbody tr th {\n",
       "        vertical-align: top;\n",
       "    }\n",
       "\n",
       "    .dataframe thead th {\n",
       "        text-align: right;\n",
       "    }\n",
       "</style>\n",
       "<table border=\"1\" class=\"dataframe\">\n",
       "  <thead>\n",
       "    <tr style=\"text-align: right;\">\n",
       "      <th></th>\n",
       "      <th>Unnamed: 0</th>\n",
       "      <th>fare_amount</th>\n",
       "      <th>pickup_longitude</th>\n",
       "      <th>pickup_latitude</th>\n",
       "      <th>dropoff_longitude</th>\n",
       "      <th>dropoff_latitude</th>\n",
       "      <th>passenger_count</th>\n",
       "    </tr>\n",
       "  </thead>\n",
       "  <tbody>\n",
       "    <tr>\n",
       "      <th>count</th>\n",
       "      <td>1.953420e+05</td>\n",
       "      <td>195342.000000</td>\n",
       "      <td>195342.000000</td>\n",
       "      <td>195342.000000</td>\n",
       "      <td>195342.000000</td>\n",
       "      <td>195342.000000</td>\n",
       "      <td>195342.000000</td>\n",
       "    </tr>\n",
       "    <tr>\n",
       "      <th>mean</th>\n",
       "      <td>2.771568e+07</td>\n",
       "      <td>11.350196</td>\n",
       "      <td>-73.929892</td>\n",
       "      <td>40.705428</td>\n",
       "      <td>-73.916906</td>\n",
       "      <td>40.688365</td>\n",
       "      <td>1.691152</td>\n",
       "    </tr>\n",
       "    <tr>\n",
       "      <th>std</th>\n",
       "      <td>1.600942e+07</td>\n",
       "      <td>9.808223</td>\n",
       "      <td>5.458969</td>\n",
       "      <td>5.436405</td>\n",
       "      <td>8.533219</td>\n",
       "      <td>4.001301</td>\n",
       "      <td>1.386991</td>\n",
       "    </tr>\n",
       "    <tr>\n",
       "      <th>min</th>\n",
       "      <td>1.000000e+00</td>\n",
       "      <td>-52.000000</td>\n",
       "      <td>-1340.648410</td>\n",
       "      <td>-74.015515</td>\n",
       "      <td>-3356.666300</td>\n",
       "      <td>-881.985513</td>\n",
       "      <td>1.000000</td>\n",
       "    </tr>\n",
       "    <tr>\n",
       "      <th>25%</th>\n",
       "      <td>1.383389e+07</td>\n",
       "      <td>6.000000</td>\n",
       "      <td>-73.992268</td>\n",
       "      <td>40.736392</td>\n",
       "      <td>-73.991592</td>\n",
       "      <td>40.735266</td>\n",
       "      <td>1.000000</td>\n",
       "    </tr>\n",
       "    <tr>\n",
       "      <th>50%</th>\n",
       "      <td>2.776122e+07</td>\n",
       "      <td>8.500000</td>\n",
       "      <td>-73.982102</td>\n",
       "      <td>40.753277</td>\n",
       "      <td>-73.980523</td>\n",
       "      <td>40.753724</td>\n",
       "      <td>1.000000</td>\n",
       "    </tr>\n",
       "    <tr>\n",
       "      <th>75%</th>\n",
       "      <td>4.154783e+07</td>\n",
       "      <td>12.500000</td>\n",
       "      <td>-73.968317</td>\n",
       "      <td>40.767540</td>\n",
       "      <td>-73.965317</td>\n",
       "      <td>40.768320</td>\n",
       "      <td>2.000000</td>\n",
       "    </tr>\n",
       "    <tr>\n",
       "      <th>max</th>\n",
       "      <td>5.542357e+07</td>\n",
       "      <td>499.000000</td>\n",
       "      <td>57.418457</td>\n",
       "      <td>1644.421482</td>\n",
       "      <td>1153.572603</td>\n",
       "      <td>872.697628</td>\n",
       "      <td>208.000000</td>\n",
       "    </tr>\n",
       "  </tbody>\n",
       "</table>\n",
       "</div>"
      ],
      "text/plain": [
       "         Unnamed: 0    fare_amount  pickup_longitude  pickup_latitude  \\\n",
       "count  1.953420e+05  195342.000000     195342.000000    195342.000000   \n",
       "mean   2.771568e+07      11.350196        -73.929892        40.705428   \n",
       "std    1.600942e+07       9.808223          5.458969         5.436405   \n",
       "min    1.000000e+00     -52.000000      -1340.648410       -74.015515   \n",
       "25%    1.383389e+07       6.000000        -73.992268        40.736392   \n",
       "50%    2.776122e+07       8.500000        -73.982102        40.753277   \n",
       "75%    4.154783e+07      12.500000        -73.968317        40.767540   \n",
       "max    5.542357e+07     499.000000         57.418457      1644.421482   \n",
       "\n",
       "       dropoff_longitude  dropoff_latitude  passenger_count  \n",
       "count      195342.000000     195342.000000    195342.000000  \n",
       "mean          -73.916906         40.688365         1.691152  \n",
       "std             8.533219          4.001301         1.386991  \n",
       "min         -3356.666300       -881.985513         1.000000  \n",
       "25%           -73.991592         40.735266         1.000000  \n",
       "50%           -73.980523         40.753724         1.000000  \n",
       "75%           -73.965317         40.768320         2.000000  \n",
       "max          1153.572603        872.697628       208.000000  "
      ]
     },
     "execution_count": 9,
     "metadata": {},
     "output_type": "execute_result"
    }
   ],
   "source": [
    "df.describe()"
   ]
  },
  {
   "cell_type": "code",
   "execution_count": 10,
   "id": "59a4e243",
   "metadata": {
    "id": "59a4e243"
   },
   "outputs": [],
   "source": [
    "df.drop(['key', 'Unnamed: 0'],axis = 1, inplace=True)"
   ]
  },
  {
   "cell_type": "code",
   "execution_count": 11,
   "id": "76b7207b",
   "metadata": {},
   "outputs": [
    {
     "data": {
      "text/plain": [
       "1.0      135642\n",
       "2.0       28865\n",
       "5.0       13741\n",
       "3.0        8708\n",
       "6.0        4202\n",
       "4.0        4183\n",
       "208.0         1\n",
       "Name: passenger_count, dtype: int64"
      ]
     },
     "execution_count": 11,
     "metadata": {},
     "output_type": "execute_result"
    }
   ],
   "source": [
    "df['passenger_count'].value_counts()"
   ]
  },
  {
   "cell_type": "code",
   "execution_count": 12,
   "id": "ec0caf2c",
   "metadata": {
    "colab": {
     "base_uri": "https://localhost:8080/",
     "height": 424
    },
    "id": "ec0caf2c",
    "outputId": "9c3759aa-69fb-4579-c0eb-09217f33ea56"
   },
   "outputs": [
    {
     "data": {
      "text/html": [
       "<div>\n",
       "<style scoped>\n",
       "    .dataframe tbody tr th:only-of-type {\n",
       "        vertical-align: middle;\n",
       "    }\n",
       "\n",
       "    .dataframe tbody tr th {\n",
       "        vertical-align: top;\n",
       "    }\n",
       "\n",
       "    .dataframe thead th {\n",
       "        text-align: right;\n",
       "    }\n",
       "</style>\n",
       "<table border=\"1\" class=\"dataframe\">\n",
       "  <thead>\n",
       "    <tr style=\"text-align: right;\">\n",
       "      <th></th>\n",
       "      <th>fare_amount</th>\n",
       "      <th>pickup_datetime</th>\n",
       "      <th>pickup_longitude</th>\n",
       "      <th>pickup_latitude</th>\n",
       "      <th>dropoff_longitude</th>\n",
       "      <th>dropoff_latitude</th>\n",
       "      <th>passenger_count</th>\n",
       "    </tr>\n",
       "  </thead>\n",
       "  <tbody>\n",
       "    <tr>\n",
       "      <th>0</th>\n",
       "      <td>7.5</td>\n",
       "      <td>2015-05-07 19:52:06 UTC</td>\n",
       "      <td>-73.999817</td>\n",
       "      <td>40.738354</td>\n",
       "      <td>-73.999512</td>\n",
       "      <td>40.723217</td>\n",
       "      <td>1.0</td>\n",
       "    </tr>\n",
       "    <tr>\n",
       "      <th>1</th>\n",
       "      <td>7.7</td>\n",
       "      <td>2009-07-17 20:04:56 UTC</td>\n",
       "      <td>-73.994355</td>\n",
       "      <td>40.728225</td>\n",
       "      <td>-73.994710</td>\n",
       "      <td>40.750325</td>\n",
       "      <td>1.0</td>\n",
       "    </tr>\n",
       "    <tr>\n",
       "      <th>2</th>\n",
       "      <td>12.9</td>\n",
       "      <td>2009-08-24 21:45:00 UTC</td>\n",
       "      <td>-74.005043</td>\n",
       "      <td>40.740770</td>\n",
       "      <td>-73.962565</td>\n",
       "      <td>40.772647</td>\n",
       "      <td>1.0</td>\n",
       "    </tr>\n",
       "    <tr>\n",
       "      <th>3</th>\n",
       "      <td>5.3</td>\n",
       "      <td>2009-06-26 08:22:21 UTC</td>\n",
       "      <td>-73.976124</td>\n",
       "      <td>40.790844</td>\n",
       "      <td>-73.965316</td>\n",
       "      <td>40.803349</td>\n",
       "      <td>3.0</td>\n",
       "    </tr>\n",
       "    <tr>\n",
       "      <th>4</th>\n",
       "      <td>16.0</td>\n",
       "      <td>2014-08-28 17:47:00 UTC</td>\n",
       "      <td>-73.925023</td>\n",
       "      <td>40.744085</td>\n",
       "      <td>-73.973082</td>\n",
       "      <td>40.761247</td>\n",
       "      <td>5.0</td>\n",
       "    </tr>\n",
       "    <tr>\n",
       "      <th>...</th>\n",
       "      <td>...</td>\n",
       "      <td>...</td>\n",
       "      <td>...</td>\n",
       "      <td>...</td>\n",
       "      <td>...</td>\n",
       "      <td>...</td>\n",
       "      <td>...</td>\n",
       "    </tr>\n",
       "    <tr>\n",
       "      <th>199995</th>\n",
       "      <td>3.0</td>\n",
       "      <td>2012-10-28 10:49:00 UTC</td>\n",
       "      <td>-73.987042</td>\n",
       "      <td>40.739367</td>\n",
       "      <td>-73.986525</td>\n",
       "      <td>40.740297</td>\n",
       "      <td>1.0</td>\n",
       "    </tr>\n",
       "    <tr>\n",
       "      <th>199996</th>\n",
       "      <td>7.5</td>\n",
       "      <td>2014-03-14 01:09:00 UTC</td>\n",
       "      <td>-73.984722</td>\n",
       "      <td>40.736837</td>\n",
       "      <td>-74.006672</td>\n",
       "      <td>40.739620</td>\n",
       "      <td>1.0</td>\n",
       "    </tr>\n",
       "    <tr>\n",
       "      <th>199997</th>\n",
       "      <td>30.9</td>\n",
       "      <td>2009-06-29 00:42:00 UTC</td>\n",
       "      <td>-73.986017</td>\n",
       "      <td>40.756487</td>\n",
       "      <td>-73.858957</td>\n",
       "      <td>40.692588</td>\n",
       "      <td>2.0</td>\n",
       "    </tr>\n",
       "    <tr>\n",
       "      <th>199998</th>\n",
       "      <td>14.5</td>\n",
       "      <td>2015-05-20 14:56:25 UTC</td>\n",
       "      <td>-73.997124</td>\n",
       "      <td>40.725452</td>\n",
       "      <td>-73.983215</td>\n",
       "      <td>40.695415</td>\n",
       "      <td>1.0</td>\n",
       "    </tr>\n",
       "    <tr>\n",
       "      <th>199999</th>\n",
       "      <td>14.1</td>\n",
       "      <td>2010-05-15 04:08:00 UTC</td>\n",
       "      <td>-73.984395</td>\n",
       "      <td>40.720077</td>\n",
       "      <td>-73.985508</td>\n",
       "      <td>40.768793</td>\n",
       "      <td>1.0</td>\n",
       "    </tr>\n",
       "  </tbody>\n",
       "</table>\n",
       "<p>195342 rows × 7 columns</p>\n",
       "</div>"
      ],
      "text/plain": [
       "        fare_amount          pickup_datetime  pickup_longitude  \\\n",
       "0               7.5  2015-05-07 19:52:06 UTC        -73.999817   \n",
       "1               7.7  2009-07-17 20:04:56 UTC        -73.994355   \n",
       "2              12.9  2009-08-24 21:45:00 UTC        -74.005043   \n",
       "3               5.3  2009-06-26 08:22:21 UTC        -73.976124   \n",
       "4              16.0  2014-08-28 17:47:00 UTC        -73.925023   \n",
       "...             ...                      ...               ...   \n",
       "199995          3.0  2012-10-28 10:49:00 UTC        -73.987042   \n",
       "199996          7.5  2014-03-14 01:09:00 UTC        -73.984722   \n",
       "199997         30.9  2009-06-29 00:42:00 UTC        -73.986017   \n",
       "199998         14.5  2015-05-20 14:56:25 UTC        -73.997124   \n",
       "199999         14.1  2010-05-15 04:08:00 UTC        -73.984395   \n",
       "\n",
       "        pickup_latitude  dropoff_longitude  dropoff_latitude  passenger_count  \n",
       "0             40.738354         -73.999512         40.723217              1.0  \n",
       "1             40.728225         -73.994710         40.750325              1.0  \n",
       "2             40.740770         -73.962565         40.772647              1.0  \n",
       "3             40.790844         -73.965316         40.803349              3.0  \n",
       "4             40.744085         -73.973082         40.761247              5.0  \n",
       "...                 ...                ...               ...              ...  \n",
       "199995        40.739367         -73.986525         40.740297              1.0  \n",
       "199996        40.736837         -74.006672         40.739620              1.0  \n",
       "199997        40.756487         -73.858957         40.692588              2.0  \n",
       "199998        40.725452         -73.983215         40.695415              1.0  \n",
       "199999        40.720077         -73.985508         40.768793              1.0  \n",
       "\n",
       "[195342 rows x 7 columns]"
      ]
     },
     "execution_count": 12,
     "metadata": {},
     "output_type": "execute_result"
    }
   ],
   "source": [
    "df"
   ]
  },
  {
   "cell_type": "markdown",
   "id": "SlrKJd6Amm8Y",
   "metadata": {
    "id": "SlrKJd6Amm8Y"
   },
   "source": [
    "###  Fix pickup_datetime column"
   ]
  },
  {
   "cell_type": "code",
   "execution_count": 13,
   "id": "66b1bf77",
   "metadata": {
    "colab": {
     "base_uri": "https://localhost:8080/"
    },
    "id": "66b1bf77",
    "outputId": "f9f7c898-34e4-4321-c4cb-51ca1a7a01db"
   },
   "outputs": [
    {
     "data": {
      "text/plain": [
       "0         2015-05-07 19:52:06 UTC\n",
       "1         2009-07-17 20:04:56 UTC\n",
       "2         2009-08-24 21:45:00 UTC\n",
       "3         2009-06-26 08:22:21 UTC\n",
       "4         2014-08-28 17:47:00 UTC\n",
       "                   ...           \n",
       "199995    2012-10-28 10:49:00 UTC\n",
       "199996    2014-03-14 01:09:00 UTC\n",
       "199997    2009-06-29 00:42:00 UTC\n",
       "199998    2015-05-20 14:56:25 UTC\n",
       "199999    2010-05-15 04:08:00 UTC\n",
       "Name: pickup_datetime, Length: 195342, dtype: object"
      ]
     },
     "execution_count": 13,
     "metadata": {},
     "output_type": "execute_result"
    }
   ],
   "source": [
    "df['pickup_datetime']"
   ]
  },
  {
   "cell_type": "code",
   "execution_count": 14,
   "id": "8866fbc1",
   "metadata": {
    "colab": {
     "base_uri": "https://localhost:8080/",
     "height": 0
    },
    "id": "8866fbc1",
    "outputId": "7c9ee45d-4f6e-4da1-9de4-274a4a38e34d",
    "scrolled": false
   },
   "outputs": [
    {
     "data": {
      "text/plain": [
       "'2015-05-07 19:52:06'"
      ]
     },
     "execution_count": 14,
     "metadata": {},
     "output_type": "execute_result"
    }
   ],
   "source": [
    "df['pickup_datetime'][0][0:19]"
   ]
  },
  {
   "cell_type": "code",
   "execution_count": 15,
   "id": "49a53596",
   "metadata": {
    "id": "49a53596"
   },
   "outputs": [],
   "source": [
    "def fix_date(x) :\n",
    "    return x[0:19]"
   ]
  },
  {
   "cell_type": "code",
   "execution_count": 16,
   "id": "48add4c1",
   "metadata": {
    "colab": {
     "base_uri": "https://localhost:8080/",
     "height": 0
    },
    "id": "48add4c1",
    "outputId": "b5335036-5334-4d74-893e-7d0bb551a9f6"
   },
   "outputs": [
    {
     "data": {
      "text/html": [
       "<div>\n",
       "<style scoped>\n",
       "    .dataframe tbody tr th:only-of-type {\n",
       "        vertical-align: middle;\n",
       "    }\n",
       "\n",
       "    .dataframe tbody tr th {\n",
       "        vertical-align: top;\n",
       "    }\n",
       "\n",
       "    .dataframe thead th {\n",
       "        text-align: right;\n",
       "    }\n",
       "</style>\n",
       "<table border=\"1\" class=\"dataframe\">\n",
       "  <thead>\n",
       "    <tr style=\"text-align: right;\">\n",
       "      <th></th>\n",
       "      <th>fare_amount</th>\n",
       "      <th>pickup_datetime</th>\n",
       "      <th>pickup_longitude</th>\n",
       "      <th>pickup_latitude</th>\n",
       "      <th>dropoff_longitude</th>\n",
       "      <th>dropoff_latitude</th>\n",
       "      <th>passenger_count</th>\n",
       "    </tr>\n",
       "  </thead>\n",
       "  <tbody>\n",
       "    <tr>\n",
       "      <th>0</th>\n",
       "      <td>7.5</td>\n",
       "      <td>2015-05-07 19:52:06</td>\n",
       "      <td>-73.999817</td>\n",
       "      <td>40.738354</td>\n",
       "      <td>-73.999512</td>\n",
       "      <td>40.723217</td>\n",
       "      <td>1.0</td>\n",
       "    </tr>\n",
       "    <tr>\n",
       "      <th>1</th>\n",
       "      <td>7.7</td>\n",
       "      <td>2009-07-17 20:04:56</td>\n",
       "      <td>-73.994355</td>\n",
       "      <td>40.728225</td>\n",
       "      <td>-73.994710</td>\n",
       "      <td>40.750325</td>\n",
       "      <td>1.0</td>\n",
       "    </tr>\n",
       "    <tr>\n",
       "      <th>2</th>\n",
       "      <td>12.9</td>\n",
       "      <td>2009-08-24 21:45:00</td>\n",
       "      <td>-74.005043</td>\n",
       "      <td>40.740770</td>\n",
       "      <td>-73.962565</td>\n",
       "      <td>40.772647</td>\n",
       "      <td>1.0</td>\n",
       "    </tr>\n",
       "    <tr>\n",
       "      <th>3</th>\n",
       "      <td>5.3</td>\n",
       "      <td>2009-06-26 08:22:21</td>\n",
       "      <td>-73.976124</td>\n",
       "      <td>40.790844</td>\n",
       "      <td>-73.965316</td>\n",
       "      <td>40.803349</td>\n",
       "      <td>3.0</td>\n",
       "    </tr>\n",
       "    <tr>\n",
       "      <th>4</th>\n",
       "      <td>16.0</td>\n",
       "      <td>2014-08-28 17:47:00</td>\n",
       "      <td>-73.925023</td>\n",
       "      <td>40.744085</td>\n",
       "      <td>-73.973082</td>\n",
       "      <td>40.761247</td>\n",
       "      <td>5.0</td>\n",
       "    </tr>\n",
       "    <tr>\n",
       "      <th>...</th>\n",
       "      <td>...</td>\n",
       "      <td>...</td>\n",
       "      <td>...</td>\n",
       "      <td>...</td>\n",
       "      <td>...</td>\n",
       "      <td>...</td>\n",
       "      <td>...</td>\n",
       "    </tr>\n",
       "    <tr>\n",
       "      <th>199995</th>\n",
       "      <td>3.0</td>\n",
       "      <td>2012-10-28 10:49:00</td>\n",
       "      <td>-73.987042</td>\n",
       "      <td>40.739367</td>\n",
       "      <td>-73.986525</td>\n",
       "      <td>40.740297</td>\n",
       "      <td>1.0</td>\n",
       "    </tr>\n",
       "    <tr>\n",
       "      <th>199996</th>\n",
       "      <td>7.5</td>\n",
       "      <td>2014-03-14 01:09:00</td>\n",
       "      <td>-73.984722</td>\n",
       "      <td>40.736837</td>\n",
       "      <td>-74.006672</td>\n",
       "      <td>40.739620</td>\n",
       "      <td>1.0</td>\n",
       "    </tr>\n",
       "    <tr>\n",
       "      <th>199997</th>\n",
       "      <td>30.9</td>\n",
       "      <td>2009-06-29 00:42:00</td>\n",
       "      <td>-73.986017</td>\n",
       "      <td>40.756487</td>\n",
       "      <td>-73.858957</td>\n",
       "      <td>40.692588</td>\n",
       "      <td>2.0</td>\n",
       "    </tr>\n",
       "    <tr>\n",
       "      <th>199998</th>\n",
       "      <td>14.5</td>\n",
       "      <td>2015-05-20 14:56:25</td>\n",
       "      <td>-73.997124</td>\n",
       "      <td>40.725452</td>\n",
       "      <td>-73.983215</td>\n",
       "      <td>40.695415</td>\n",
       "      <td>1.0</td>\n",
       "    </tr>\n",
       "    <tr>\n",
       "      <th>199999</th>\n",
       "      <td>14.1</td>\n",
       "      <td>2010-05-15 04:08:00</td>\n",
       "      <td>-73.984395</td>\n",
       "      <td>40.720077</td>\n",
       "      <td>-73.985508</td>\n",
       "      <td>40.768793</td>\n",
       "      <td>1.0</td>\n",
       "    </tr>\n",
       "  </tbody>\n",
       "</table>\n",
       "<p>195342 rows × 7 columns</p>\n",
       "</div>"
      ],
      "text/plain": [
       "        fare_amount      pickup_datetime  pickup_longitude  pickup_latitude  \\\n",
       "0               7.5  2015-05-07 19:52:06        -73.999817        40.738354   \n",
       "1               7.7  2009-07-17 20:04:56        -73.994355        40.728225   \n",
       "2              12.9  2009-08-24 21:45:00        -74.005043        40.740770   \n",
       "3               5.3  2009-06-26 08:22:21        -73.976124        40.790844   \n",
       "4              16.0  2014-08-28 17:47:00        -73.925023        40.744085   \n",
       "...             ...                  ...               ...              ...   \n",
       "199995          3.0  2012-10-28 10:49:00        -73.987042        40.739367   \n",
       "199996          7.5  2014-03-14 01:09:00        -73.984722        40.736837   \n",
       "199997         30.9  2009-06-29 00:42:00        -73.986017        40.756487   \n",
       "199998         14.5  2015-05-20 14:56:25        -73.997124        40.725452   \n",
       "199999         14.1  2010-05-15 04:08:00        -73.984395        40.720077   \n",
       "\n",
       "        dropoff_longitude  dropoff_latitude  passenger_count  \n",
       "0              -73.999512         40.723217              1.0  \n",
       "1              -73.994710         40.750325              1.0  \n",
       "2              -73.962565         40.772647              1.0  \n",
       "3              -73.965316         40.803349              3.0  \n",
       "4              -73.973082         40.761247              5.0  \n",
       "...                   ...               ...              ...  \n",
       "199995         -73.986525         40.740297              1.0  \n",
       "199996         -74.006672         40.739620              1.0  \n",
       "199997         -73.858957         40.692588              2.0  \n",
       "199998         -73.983215         40.695415              1.0  \n",
       "199999         -73.985508         40.768793              1.0  \n",
       "\n",
       "[195342 rows x 7 columns]"
      ]
     },
     "execution_count": 16,
     "metadata": {},
     "output_type": "execute_result"
    }
   ],
   "source": [
    "df['pickup_datetime']=df['pickup_datetime'].apply(fix_date)\n",
    "df"
   ]
  },
  {
   "cell_type": "code",
   "execution_count": 17,
   "id": "ad4fafbe",
   "metadata": {
    "id": "ad4fafbe"
   },
   "outputs": [],
   "source": [
    "df['pickup_datetime'] = pd.to_datetime(df['pickup_datetime'],format ='%Y-%m-%d %H:%M:%S')\n"
   ]
  },
  {
   "cell_type": "code",
   "execution_count": 18,
   "id": "52dd38e2",
   "metadata": {
    "colab": {
     "base_uri": "https://localhost:8080/"
    },
    "id": "52dd38e2",
    "outputId": "0685059a-48aa-461a-8fc3-5e104ab567b5"
   },
   "outputs": [
    {
     "name": "stdout",
     "output_type": "stream",
     "text": [
      "<class 'pandas.core.frame.DataFrame'>\n",
      "Int64Index: 195342 entries, 0 to 199999\n",
      "Data columns (total 7 columns):\n",
      " #   Column             Non-Null Count   Dtype         \n",
      "---  ------             --------------   -----         \n",
      " 0   fare_amount        195342 non-null  float64       \n",
      " 1   pickup_datetime    195342 non-null  datetime64[ns]\n",
      " 2   pickup_longitude   195342 non-null  float64       \n",
      " 3   pickup_latitude    195342 non-null  float64       \n",
      " 4   dropoff_longitude  195342 non-null  float64       \n",
      " 5   dropoff_latitude   195342 non-null  float64       \n",
      " 6   passenger_count    195342 non-null  float64       \n",
      "dtypes: datetime64[ns](1), float64(6)\n",
      "memory usage: 16.0 MB\n"
     ]
    }
   ],
   "source": [
    "df.info()"
   ]
  },
  {
   "cell_type": "markdown",
   "id": "c9f7a9b3",
   "metadata": {
    "id": "c9f7a9b3"
   },
   "source": [
    "# Geocoding features to get the address from lat, long "
   ]
  },
  {
   "cell_type": "code",
   "execution_count": 19,
   "id": "d9a89260",
   "metadata": {
    "id": "d9a89260"
   },
   "outputs": [],
   "source": [
    "from geopy.distance import great_circle\n"
   ]
  },
  {
   "cell_type": "code",
   "execution_count": 20,
   "id": "7a3606b6",
   "metadata": {
    "id": "7a3606b6"
   },
   "outputs": [],
   "source": [
    "def det_kilometres (x) :\n",
    "    loc1 = (x['pickup_latitude'] , x['pickup_longitude'])\n",
    "    loc2 = (x['dropoff_latitude'],x['dropoff_longitude'])\n",
    "    return great_circle(loc1,loc2).kilometers"
   ]
  },
  {
   "cell_type": "code",
   "execution_count": 21,
   "id": "b167225f",
   "metadata": {
    "colab": {
     "base_uri": "https://localhost:8080/"
    },
    "id": "b167225f",
    "outputId": "10e74a51-51e0-4113-f87f-d408dd2a651c"
   },
   "outputs": [
    {
     "data": {
      "text/plain": [
       "2.4575933554966425"
      ]
     },
     "execution_count": 21,
     "metadata": {},
     "output_type": "execute_result"
    }
   ],
   "source": [
    "x = (df['pickup_latitude'][1] , df['pickup_longitude'][1])\n",
    "y = (df['dropoff_latitude'][1],df['dropoff_longitude'][1])\n",
    "great_circle(x,y).kilometers"
   ]
  },
  {
   "cell_type": "code",
   "execution_count": 22,
   "id": "009c9a54",
   "metadata": {
    "colab": {
     "base_uri": "https://localhost:8080/",
     "height": 0
    },
    "id": "009c9a54",
    "outputId": "eed817dc-2797-4eaa-bb68-7ca22398d036"
   },
   "outputs": [
    {
     "data": {
      "text/html": [
       "<div>\n",
       "<style scoped>\n",
       "    .dataframe tbody tr th:only-of-type {\n",
       "        vertical-align: middle;\n",
       "    }\n",
       "\n",
       "    .dataframe tbody tr th {\n",
       "        vertical-align: top;\n",
       "    }\n",
       "\n",
       "    .dataframe thead th {\n",
       "        text-align: right;\n",
       "    }\n",
       "</style>\n",
       "<table border=\"1\" class=\"dataframe\">\n",
       "  <thead>\n",
       "    <tr style=\"text-align: right;\">\n",
       "      <th></th>\n",
       "      <th>fare_amount</th>\n",
       "      <th>pickup_datetime</th>\n",
       "      <th>pickup_longitude</th>\n",
       "      <th>pickup_latitude</th>\n",
       "      <th>dropoff_longitude</th>\n",
       "      <th>dropoff_latitude</th>\n",
       "      <th>passenger_count</th>\n",
       "    </tr>\n",
       "  </thead>\n",
       "  <tbody>\n",
       "    <tr>\n",
       "      <th>56617</th>\n",
       "      <td>8.1</td>\n",
       "      <td>2012-03-11 07:24:00</td>\n",
       "      <td>-73.960828</td>\n",
       "      <td>404.433332</td>\n",
       "      <td>-73.988357</td>\n",
       "      <td>40.769037</td>\n",
       "      <td>1.0</td>\n",
       "    </tr>\n",
       "    <tr>\n",
       "      <th>61793</th>\n",
       "      <td>8.5</td>\n",
       "      <td>2012-06-13 05:45:00</td>\n",
       "      <td>-73.951385</td>\n",
       "      <td>401.066667</td>\n",
       "      <td>-73.982110</td>\n",
       "      <td>40.754117</td>\n",
       "      <td>1.0</td>\n",
       "    </tr>\n",
       "    <tr>\n",
       "      <th>75851</th>\n",
       "      <td>15.7</td>\n",
       "      <td>2011-11-05 00:22:00</td>\n",
       "      <td>-1340.648410</td>\n",
       "      <td>1644.421482</td>\n",
       "      <td>-3356.666300</td>\n",
       "      <td>872.697628</td>\n",
       "      <td>1.0</td>\n",
       "    </tr>\n",
       "    <tr>\n",
       "      <th>91422</th>\n",
       "      <td>16.1</td>\n",
       "      <td>2011-05-18 13:24:00</td>\n",
       "      <td>57.418457</td>\n",
       "      <td>1292.016128</td>\n",
       "      <td>1153.572603</td>\n",
       "      <td>-881.985513</td>\n",
       "      <td>1.0</td>\n",
       "    </tr>\n",
       "  </tbody>\n",
       "</table>\n",
       "</div>"
      ],
      "text/plain": [
       "       fare_amount     pickup_datetime  pickup_longitude  pickup_latitude  \\\n",
       "56617          8.1 2012-03-11 07:24:00        -73.960828       404.433332   \n",
       "61793          8.5 2012-06-13 05:45:00        -73.951385       401.066667   \n",
       "75851         15.7 2011-11-05 00:22:00      -1340.648410      1644.421482   \n",
       "91422         16.1 2011-05-18 13:24:00         57.418457      1292.016128   \n",
       "\n",
       "       dropoff_longitude  dropoff_latitude  passenger_count  \n",
       "56617         -73.988357         40.769037              1.0  \n",
       "61793         -73.982110         40.754117              1.0  \n",
       "75851       -3356.666300        872.697628              1.0  \n",
       "91422        1153.572603       -881.985513              1.0  "
      ]
     },
     "execution_count": 22,
     "metadata": {},
     "output_type": "execute_result"
    }
   ],
   "source": [
    "df[ df['pickup_latitude'] > 90]"
   ]
  },
  {
   "cell_type": "code",
   "execution_count": 23,
   "id": "0fd7ac2f",
   "metadata": {
    "colab": {
     "base_uri": "https://localhost:8080/",
     "height": 0
    },
    "id": "0fd7ac2f",
    "outputId": "b3ec3f62-15ee-458e-9313-5551f6bfbc60"
   },
   "outputs": [
    {
     "data": {
      "text/html": [
       "<div>\n",
       "<style scoped>\n",
       "    .dataframe tbody tr th:only-of-type {\n",
       "        vertical-align: middle;\n",
       "    }\n",
       "\n",
       "    .dataframe tbody tr th {\n",
       "        vertical-align: top;\n",
       "    }\n",
       "\n",
       "    .dataframe thead th {\n",
       "        text-align: right;\n",
       "    }\n",
       "</style>\n",
       "<table border=\"1\" class=\"dataframe\">\n",
       "  <thead>\n",
       "    <tr style=\"text-align: right;\">\n",
       "      <th></th>\n",
       "      <th>fare_amount</th>\n",
       "      <th>pickup_datetime</th>\n",
       "      <th>pickup_longitude</th>\n",
       "      <th>pickup_latitude</th>\n",
       "      <th>dropoff_longitude</th>\n",
       "      <th>dropoff_latitude</th>\n",
       "      <th>passenger_count</th>\n",
       "    </tr>\n",
       "  </thead>\n",
       "  <tbody>\n",
       "  </tbody>\n",
       "</table>\n",
       "</div>"
      ],
      "text/plain": [
       "Empty DataFrame\n",
       "Columns: [fare_amount, pickup_datetime, pickup_longitude, pickup_latitude, dropoff_longitude, dropoff_latitude, passenger_count]\n",
       "Index: []"
      ]
     },
     "execution_count": 23,
     "metadata": {},
     "output_type": "execute_result"
    }
   ],
   "source": [
    "df[ df['pickup_latitude'] < -90] "
   ]
  },
  {
   "cell_type": "code",
   "execution_count": 24,
   "id": "4ebc516d",
   "metadata": {
    "id": "4ebc516d"
   },
   "outputs": [],
   "source": [
    "df.drop([56617 ,61793,75851,91422] , axis=0 , inplace=True)"
   ]
  },
  {
   "cell_type": "code",
   "execution_count": 25,
   "id": "d3c56caa",
   "metadata": {
    "colab": {
     "base_uri": "https://localhost:8080/",
     "height": 0
    },
    "id": "d3c56caa",
    "outputId": "8a7e7795-5921-4c03-b2a1-9ccd8f365dfd"
   },
   "outputs": [
    {
     "data": {
      "text/html": [
       "<div>\n",
       "<style scoped>\n",
       "    .dataframe tbody tr th:only-of-type {\n",
       "        vertical-align: middle;\n",
       "    }\n",
       "\n",
       "    .dataframe tbody tr th {\n",
       "        vertical-align: top;\n",
       "    }\n",
       "\n",
       "    .dataframe thead th {\n",
       "        text-align: right;\n",
       "    }\n",
       "</style>\n",
       "<table border=\"1\" class=\"dataframe\">\n",
       "  <thead>\n",
       "    <tr style=\"text-align: right;\">\n",
       "      <th></th>\n",
       "      <th>fare_amount</th>\n",
       "      <th>pickup_datetime</th>\n",
       "      <th>pickup_longitude</th>\n",
       "      <th>pickup_latitude</th>\n",
       "      <th>dropoff_longitude</th>\n",
       "      <th>dropoff_latitude</th>\n",
       "      <th>passenger_count</th>\n",
       "    </tr>\n",
       "  </thead>\n",
       "  <tbody>\n",
       "    <tr>\n",
       "      <th>139447</th>\n",
       "      <td>13.7</td>\n",
       "      <td>2012-01-20 11:50:00</td>\n",
       "      <td>-74.011042</td>\n",
       "      <td>40.70978</td>\n",
       "      <td>-73.983163</td>\n",
       "      <td>493.533332</td>\n",
       "      <td>4.0</td>\n",
       "    </tr>\n",
       "  </tbody>\n",
       "</table>\n",
       "</div>"
      ],
      "text/plain": [
       "        fare_amount     pickup_datetime  pickup_longitude  pickup_latitude  \\\n",
       "139447         13.7 2012-01-20 11:50:00        -74.011042         40.70978   \n",
       "\n",
       "        dropoff_longitude  dropoff_latitude  passenger_count  \n",
       "139447         -73.983163        493.533332              4.0  "
      ]
     },
     "execution_count": 25,
     "metadata": {},
     "output_type": "execute_result"
    }
   ],
   "source": [
    "df[ df['dropoff_latitude'] > 90]"
   ]
  },
  {
   "cell_type": "code",
   "execution_count": 26,
   "id": "1fbe4387",
   "metadata": {
    "id": "1fbe4387"
   },
   "outputs": [],
   "source": [
    "df.drop([139447] , axis=0 , inplace=True)"
   ]
  },
  {
   "cell_type": "code",
   "execution_count": 27,
   "id": "b44b0ac0",
   "metadata": {
    "colab": {
     "base_uri": "https://localhost:8080/",
     "height": 0
    },
    "id": "b44b0ac0",
    "outputId": "b969c26a-9c78-48eb-b397-79dcbc2684b7",
    "scrolled": true
   },
   "outputs": [
    {
     "data": {
      "text/html": [
       "<div>\n",
       "<style scoped>\n",
       "    .dataframe tbody tr th:only-of-type {\n",
       "        vertical-align: middle;\n",
       "    }\n",
       "\n",
       "    .dataframe tbody tr th {\n",
       "        vertical-align: top;\n",
       "    }\n",
       "\n",
       "    .dataframe thead th {\n",
       "        text-align: right;\n",
       "    }\n",
       "</style>\n",
       "<table border=\"1\" class=\"dataframe\">\n",
       "  <thead>\n",
       "    <tr style=\"text-align: right;\">\n",
       "      <th></th>\n",
       "      <th>fare_amount</th>\n",
       "      <th>pickup_datetime</th>\n",
       "      <th>pickup_longitude</th>\n",
       "      <th>pickup_latitude</th>\n",
       "      <th>dropoff_longitude</th>\n",
       "      <th>dropoff_latitude</th>\n",
       "      <th>passenger_count</th>\n",
       "    </tr>\n",
       "  </thead>\n",
       "  <tbody>\n",
       "  </tbody>\n",
       "</table>\n",
       "</div>"
      ],
      "text/plain": [
       "Empty DataFrame\n",
       "Columns: [fare_amount, pickup_datetime, pickup_longitude, pickup_latitude, dropoff_longitude, dropoff_latitude, passenger_count]\n",
       "Index: []"
      ]
     },
     "execution_count": 27,
     "metadata": {},
     "output_type": "execute_result"
    }
   ],
   "source": [
    "df[ df['dropoff_latitude'] < -90] "
   ]
  },
  {
   "cell_type": "code",
   "execution_count": 28,
   "id": "dc42c954",
   "metadata": {
    "id": "dc42c954",
    "scrolled": false
   },
   "outputs": [],
   "source": [
    "df['kilo_meters'] = df.apply(det_kilometres , axis=1)"
   ]
  },
  {
   "cell_type": "code",
   "execution_count": 29,
   "id": "qbny1yDXoG7b",
   "metadata": {
    "colab": {
     "base_uri": "https://localhost:8080/",
     "height": 0
    },
    "id": "qbny1yDXoG7b",
    "outputId": "4bed3db5-10b5-41d8-ee90-6c5bac4480e0"
   },
   "outputs": [
    {
     "data": {
      "text/html": [
       "<div>\n",
       "<style scoped>\n",
       "    .dataframe tbody tr th:only-of-type {\n",
       "        vertical-align: middle;\n",
       "    }\n",
       "\n",
       "    .dataframe tbody tr th {\n",
       "        vertical-align: top;\n",
       "    }\n",
       "\n",
       "    .dataframe thead th {\n",
       "        text-align: right;\n",
       "    }\n",
       "</style>\n",
       "<table border=\"1\" class=\"dataframe\">\n",
       "  <thead>\n",
       "    <tr style=\"text-align: right;\">\n",
       "      <th></th>\n",
       "      <th>fare_amount</th>\n",
       "      <th>pickup_datetime</th>\n",
       "      <th>pickup_longitude</th>\n",
       "      <th>pickup_latitude</th>\n",
       "      <th>dropoff_longitude</th>\n",
       "      <th>dropoff_latitude</th>\n",
       "      <th>passenger_count</th>\n",
       "      <th>kilo_meters</th>\n",
       "    </tr>\n",
       "  </thead>\n",
       "  <tbody>\n",
       "    <tr>\n",
       "      <th>0</th>\n",
       "      <td>7.5</td>\n",
       "      <td>2015-05-07 19:52:06</td>\n",
       "      <td>-73.999817</td>\n",
       "      <td>40.738354</td>\n",
       "      <td>-73.999512</td>\n",
       "      <td>40.723217</td>\n",
       "      <td>1.0</td>\n",
       "      <td>1.683325</td>\n",
       "    </tr>\n",
       "    <tr>\n",
       "      <th>1</th>\n",
       "      <td>7.7</td>\n",
       "      <td>2009-07-17 20:04:56</td>\n",
       "      <td>-73.994355</td>\n",
       "      <td>40.728225</td>\n",
       "      <td>-73.994710</td>\n",
       "      <td>40.750325</td>\n",
       "      <td>1.0</td>\n",
       "      <td>2.457593</td>\n",
       "    </tr>\n",
       "    <tr>\n",
       "      <th>2</th>\n",
       "      <td>12.9</td>\n",
       "      <td>2009-08-24 21:45:00</td>\n",
       "      <td>-74.005043</td>\n",
       "      <td>40.740770</td>\n",
       "      <td>-73.962565</td>\n",
       "      <td>40.772647</td>\n",
       "      <td>1.0</td>\n",
       "      <td>5.036384</td>\n",
       "    </tr>\n",
       "    <tr>\n",
       "      <th>3</th>\n",
       "      <td>5.3</td>\n",
       "      <td>2009-06-26 08:22:21</td>\n",
       "      <td>-73.976124</td>\n",
       "      <td>40.790844</td>\n",
       "      <td>-73.965316</td>\n",
       "      <td>40.803349</td>\n",
       "      <td>3.0</td>\n",
       "      <td>1.661686</td>\n",
       "    </tr>\n",
       "    <tr>\n",
       "      <th>4</th>\n",
       "      <td>16.0</td>\n",
       "      <td>2014-08-28 17:47:00</td>\n",
       "      <td>-73.925023</td>\n",
       "      <td>40.744085</td>\n",
       "      <td>-73.973082</td>\n",
       "      <td>40.761247</td>\n",
       "      <td>5.0</td>\n",
       "      <td>4.475456</td>\n",
       "    </tr>\n",
       "    <tr>\n",
       "      <th>...</th>\n",
       "      <td>...</td>\n",
       "      <td>...</td>\n",
       "      <td>...</td>\n",
       "      <td>...</td>\n",
       "      <td>...</td>\n",
       "      <td>...</td>\n",
       "      <td>...</td>\n",
       "      <td>...</td>\n",
       "    </tr>\n",
       "    <tr>\n",
       "      <th>199995</th>\n",
       "      <td>3.0</td>\n",
       "      <td>2012-10-28 10:49:00</td>\n",
       "      <td>-73.987042</td>\n",
       "      <td>40.739367</td>\n",
       "      <td>-73.986525</td>\n",
       "      <td>40.740297</td>\n",
       "      <td>1.0</td>\n",
       "      <td>0.112210</td>\n",
       "    </tr>\n",
       "    <tr>\n",
       "      <th>199996</th>\n",
       "      <td>7.5</td>\n",
       "      <td>2014-03-14 01:09:00</td>\n",
       "      <td>-73.984722</td>\n",
       "      <td>40.736837</td>\n",
       "      <td>-74.006672</td>\n",
       "      <td>40.739620</td>\n",
       "      <td>1.0</td>\n",
       "      <td>1.875053</td>\n",
       "    </tr>\n",
       "    <tr>\n",
       "      <th>199997</th>\n",
       "      <td>30.9</td>\n",
       "      <td>2009-06-29 00:42:00</td>\n",
       "      <td>-73.986017</td>\n",
       "      <td>40.756487</td>\n",
       "      <td>-73.858957</td>\n",
       "      <td>40.692588</td>\n",
       "      <td>2.0</td>\n",
       "      <td>12.850337</td>\n",
       "    </tr>\n",
       "    <tr>\n",
       "      <th>199998</th>\n",
       "      <td>14.5</td>\n",
       "      <td>2015-05-20 14:56:25</td>\n",
       "      <td>-73.997124</td>\n",
       "      <td>40.725452</td>\n",
       "      <td>-73.983215</td>\n",
       "      <td>40.695415</td>\n",
       "      <td>1.0</td>\n",
       "      <td>3.539720</td>\n",
       "    </tr>\n",
       "    <tr>\n",
       "      <th>199999</th>\n",
       "      <td>14.1</td>\n",
       "      <td>2010-05-15 04:08:00</td>\n",
       "      <td>-73.984395</td>\n",
       "      <td>40.720077</td>\n",
       "      <td>-73.985508</td>\n",
       "      <td>40.768793</td>\n",
       "      <td>1.0</td>\n",
       "      <td>5.417791</td>\n",
       "    </tr>\n",
       "  </tbody>\n",
       "</table>\n",
       "<p>195337 rows × 8 columns</p>\n",
       "</div>"
      ],
      "text/plain": [
       "        fare_amount     pickup_datetime  pickup_longitude  pickup_latitude  \\\n",
       "0               7.5 2015-05-07 19:52:06        -73.999817        40.738354   \n",
       "1               7.7 2009-07-17 20:04:56        -73.994355        40.728225   \n",
       "2              12.9 2009-08-24 21:45:00        -74.005043        40.740770   \n",
       "3               5.3 2009-06-26 08:22:21        -73.976124        40.790844   \n",
       "4              16.0 2014-08-28 17:47:00        -73.925023        40.744085   \n",
       "...             ...                 ...               ...              ...   \n",
       "199995          3.0 2012-10-28 10:49:00        -73.987042        40.739367   \n",
       "199996          7.5 2014-03-14 01:09:00        -73.984722        40.736837   \n",
       "199997         30.9 2009-06-29 00:42:00        -73.986017        40.756487   \n",
       "199998         14.5 2015-05-20 14:56:25        -73.997124        40.725452   \n",
       "199999         14.1 2010-05-15 04:08:00        -73.984395        40.720077   \n",
       "\n",
       "        dropoff_longitude  dropoff_latitude  passenger_count  kilo_meters  \n",
       "0              -73.999512         40.723217              1.0     1.683325  \n",
       "1              -73.994710         40.750325              1.0     2.457593  \n",
       "2              -73.962565         40.772647              1.0     5.036384  \n",
       "3              -73.965316         40.803349              3.0     1.661686  \n",
       "4              -73.973082         40.761247              5.0     4.475456  \n",
       "...                   ...               ...              ...          ...  \n",
       "199995         -73.986525         40.740297              1.0     0.112210  \n",
       "199996         -74.006672         40.739620              1.0     1.875053  \n",
       "199997         -73.858957         40.692588              2.0    12.850337  \n",
       "199998         -73.983215         40.695415              1.0     3.539720  \n",
       "199999         -73.985508         40.768793              1.0     5.417791  \n",
       "\n",
       "[195337 rows x 8 columns]"
      ]
     },
     "execution_count": 29,
     "metadata": {},
     "output_type": "execute_result"
    }
   ],
   "source": [
    "df"
   ]
  },
  {
   "cell_type": "code",
   "execution_count": 30,
   "id": "f93f9713",
   "metadata": {
    "colab": {
     "base_uri": "https://localhost:8080/"
    },
    "id": "f93f9713",
    "outputId": "4288a0ae-2ca9-43b6-8d22-443e161de505",
    "scrolled": true
   },
   "outputs": [
    {
     "data": {
      "text/plain": [
       "1.0      135638\n",
       "2.0       28865\n",
       "5.0       13741\n",
       "3.0        8708\n",
       "6.0        4202\n",
       "4.0        4182\n",
       "208.0         1\n",
       "Name: passenger_count, dtype: int64"
      ]
     },
     "execution_count": 30,
     "metadata": {},
     "output_type": "execute_result"
    }
   ],
   "source": [
    "df['passenger_count'].value_counts()"
   ]
  },
  {
   "cell_type": "code",
   "execution_count": 31,
   "id": "2eb20b85",
   "metadata": {
    "colab": {
     "base_uri": "https://localhost:8080/",
     "height": 0
    },
    "id": "2eb20b85",
    "outputId": "55fd1b30-ba3a-4a9e-b7e2-cb82aba423f6"
   },
   "outputs": [
    {
     "data": {
      "text/html": [
       "<div>\n",
       "<style scoped>\n",
       "    .dataframe tbody tr th:only-of-type {\n",
       "        vertical-align: middle;\n",
       "    }\n",
       "\n",
       "    .dataframe tbody tr th {\n",
       "        vertical-align: top;\n",
       "    }\n",
       "\n",
       "    .dataframe thead th {\n",
       "        text-align: right;\n",
       "    }\n",
       "</style>\n",
       "<table border=\"1\" class=\"dataframe\">\n",
       "  <thead>\n",
       "    <tr style=\"text-align: right;\">\n",
       "      <th></th>\n",
       "      <th>fare_amount</th>\n",
       "      <th>pickup_datetime</th>\n",
       "      <th>pickup_longitude</th>\n",
       "      <th>pickup_latitude</th>\n",
       "      <th>dropoff_longitude</th>\n",
       "      <th>dropoff_latitude</th>\n",
       "      <th>passenger_count</th>\n",
       "      <th>kilo_meters</th>\n",
       "    </tr>\n",
       "  </thead>\n",
       "  <tbody>\n",
       "    <tr>\n",
       "      <th>113038</th>\n",
       "      <td>11.7</td>\n",
       "      <td>2010-12-28 08:20:00</td>\n",
       "      <td>-73.937795</td>\n",
       "      <td>40.758498</td>\n",
       "      <td>-73.937835</td>\n",
       "      <td>40.758415</td>\n",
       "      <td>208.0</td>\n",
       "      <td>0.009825</td>\n",
       "    </tr>\n",
       "  </tbody>\n",
       "</table>\n",
       "</div>"
      ],
      "text/plain": [
       "        fare_amount     pickup_datetime  pickup_longitude  pickup_latitude  \\\n",
       "113038         11.7 2010-12-28 08:20:00        -73.937795        40.758498   \n",
       "\n",
       "        dropoff_longitude  dropoff_latitude  passenger_count  kilo_meters  \n",
       "113038         -73.937835         40.758415            208.0     0.009825  "
      ]
     },
     "execution_count": 31,
     "metadata": {},
     "output_type": "execute_result"
    }
   ],
   "source": [
    "df[df['passenger_count']>6]"
   ]
  },
  {
   "cell_type": "code",
   "execution_count": 32,
   "id": "0a9b64a0",
   "metadata": {
    "id": "0a9b64a0"
   },
   "outputs": [],
   "source": [
    "df.drop([113038] , axis = 0 , inplace=True)"
   ]
  },
  {
   "cell_type": "code",
   "execution_count": 33,
   "id": "61f32d46",
   "metadata": {
    "colab": {
     "base_uri": "https://localhost:8080/",
     "height": 0
    },
    "id": "61f32d46",
    "outputId": "6e6314e8-3b28-40a5-b7af-51fd2669164c"
   },
   "outputs": [
    {
     "data": {
      "text/plain": [
       "<AxesSubplot:xlabel='passenger_count', ylabel='count'>"
      ]
     },
     "execution_count": 33,
     "metadata": {},
     "output_type": "execute_result"
    },
    {
     "data": {
      "image/png": "[encoded data removed]",
      "text/plain": [
       "<Figure size 720x720 with 1 Axes>"
      ]
     },
     "metadata": {},
     "output_type": "display_data"
    }
   ],
   "source": [
    "sns.countplot(data = df , x = 'passenger_count' )"
   ]
  },
  {
   "cell_type": "code",
   "execution_count": 34,
   "id": "86ac28a2",
   "metadata": {
    "id": "86ac28a2"
   },
   "outputs": [],
   "source": [
    "df['HOUR'] = df['pickup_datetime'].dt.hour\n",
    "df['MONTH'] =df['pickup_datetime'].dt.month_name()\n",
    "df['DAY'] = df['pickup_datetime'].dt.day_name()"
   ]
  },
  {
   "cell_type": "code",
   "execution_count": 35,
   "id": "ea89cb57",
   "metadata": {
    "id": "ea89cb57"
   },
   "outputs": [],
   "source": [
    "df.drop(['pickup_datetime'], inplace = True , axis = 1)"
   ]
  },
  {
   "cell_type": "code",
   "execution_count": 36,
   "id": "853ff2c6",
   "metadata": {
    "colab": {
     "base_uri": "https://localhost:8080/",
     "height": 0
    },
    "id": "853ff2c6",
    "outputId": "8a7e5b05-9e6d-4c58-81ae-157450541528",
    "scrolled": false
   },
   "outputs": [
    {
     "data": {
      "text/html": [
       "<div>\n",
       "<style scoped>\n",
       "    .dataframe tbody tr th:only-of-type {\n",
       "        vertical-align: middle;\n",
       "    }\n",
       "\n",
       "    .dataframe tbody tr th {\n",
       "        vertical-align: top;\n",
       "    }\n",
       "\n",
       "    .dataframe thead th {\n",
       "        text-align: right;\n",
       "    }\n",
       "</style>\n",
       "<table border=\"1\" class=\"dataframe\">\n",
       "  <thead>\n",
       "    <tr style=\"text-align: right;\">\n",
       "      <th></th>\n",
       "      <th>fare_amount</th>\n",
       "      <th>pickup_longitude</th>\n",
       "      <th>pickup_latitude</th>\n",
       "      <th>dropoff_longitude</th>\n",
       "      <th>dropoff_latitude</th>\n",
       "      <th>passenger_count</th>\n",
       "      <th>kilo_meters</th>\n",
       "      <th>HOUR</th>\n",
       "      <th>MONTH</th>\n",
       "      <th>DAY</th>\n",
       "    </tr>\n",
       "  </thead>\n",
       "  <tbody>\n",
       "    <tr>\n",
       "      <th>0</th>\n",
       "      <td>7.5</td>\n",
       "      <td>-73.999817</td>\n",
       "      <td>40.738354</td>\n",
       "      <td>-73.999512</td>\n",
       "      <td>40.723217</td>\n",
       "      <td>1.0</td>\n",
       "      <td>1.683325</td>\n",
       "      <td>19</td>\n",
       "      <td>May</td>\n",
       "      <td>Thursday</td>\n",
       "    </tr>\n",
       "    <tr>\n",
       "      <th>1</th>\n",
       "      <td>7.7</td>\n",
       "      <td>-73.994355</td>\n",
       "      <td>40.728225</td>\n",
       "      <td>-73.994710</td>\n",
       "      <td>40.750325</td>\n",
       "      <td>1.0</td>\n",
       "      <td>2.457593</td>\n",
       "      <td>20</td>\n",
       "      <td>July</td>\n",
       "      <td>Friday</td>\n",
       "    </tr>\n",
       "    <tr>\n",
       "      <th>2</th>\n",
       "      <td>12.9</td>\n",
       "      <td>-74.005043</td>\n",
       "      <td>40.740770</td>\n",
       "      <td>-73.962565</td>\n",
       "      <td>40.772647</td>\n",
       "      <td>1.0</td>\n",
       "      <td>5.036384</td>\n",
       "      <td>21</td>\n",
       "      <td>August</td>\n",
       "      <td>Monday</td>\n",
       "    </tr>\n",
       "    <tr>\n",
       "      <th>3</th>\n",
       "      <td>5.3</td>\n",
       "      <td>-73.976124</td>\n",
       "      <td>40.790844</td>\n",
       "      <td>-73.965316</td>\n",
       "      <td>40.803349</td>\n",
       "      <td>3.0</td>\n",
       "      <td>1.661686</td>\n",
       "      <td>8</td>\n",
       "      <td>June</td>\n",
       "      <td>Friday</td>\n",
       "    </tr>\n",
       "    <tr>\n",
       "      <th>4</th>\n",
       "      <td>16.0</td>\n",
       "      <td>-73.925023</td>\n",
       "      <td>40.744085</td>\n",
       "      <td>-73.973082</td>\n",
       "      <td>40.761247</td>\n",
       "      <td>5.0</td>\n",
       "      <td>4.475456</td>\n",
       "      <td>17</td>\n",
       "      <td>August</td>\n",
       "      <td>Thursday</td>\n",
       "    </tr>\n",
       "    <tr>\n",
       "      <th>...</th>\n",
       "      <td>...</td>\n",
       "      <td>...</td>\n",
       "      <td>...</td>\n",
       "      <td>...</td>\n",
       "      <td>...</td>\n",
       "      <td>...</td>\n",
       "      <td>...</td>\n",
       "      <td>...</td>\n",
       "      <td>...</td>\n",
       "      <td>...</td>\n",
       "    </tr>\n",
       "    <tr>\n",
       "      <th>199995</th>\n",
       "      <td>3.0</td>\n",
       "      <td>-73.987042</td>\n",
       "      <td>40.739367</td>\n",
       "      <td>-73.986525</td>\n",
       "      <td>40.740297</td>\n",
       "      <td>1.0</td>\n",
       "      <td>0.112210</td>\n",
       "      <td>10</td>\n",
       "      <td>October</td>\n",
       "      <td>Sunday</td>\n",
       "    </tr>\n",
       "    <tr>\n",
       "      <th>199996</th>\n",
       "      <td>7.5</td>\n",
       "      <td>-73.984722</td>\n",
       "      <td>40.736837</td>\n",
       "      <td>-74.006672</td>\n",
       "      <td>40.739620</td>\n",
       "      <td>1.0</td>\n",
       "      <td>1.875053</td>\n",
       "      <td>1</td>\n",
       "      <td>March</td>\n",
       "      <td>Friday</td>\n",
       "    </tr>\n",
       "    <tr>\n",
       "      <th>199997</th>\n",
       "      <td>30.9</td>\n",
       "      <td>-73.986017</td>\n",
       "      <td>40.756487</td>\n",
       "      <td>-73.858957</td>\n",
       "      <td>40.692588</td>\n",
       "      <td>2.0</td>\n",
       "      <td>12.850337</td>\n",
       "      <td>0</td>\n",
       "      <td>June</td>\n",
       "      <td>Monday</td>\n",
       "    </tr>\n",
       "    <tr>\n",
       "      <th>199998</th>\n",
       "      <td>14.5</td>\n",
       "      <td>-73.997124</td>\n",
       "      <td>40.725452</td>\n",
       "      <td>-73.983215</td>\n",
       "      <td>40.695415</td>\n",
       "      <td>1.0</td>\n",
       "      <td>3.539720</td>\n",
       "      <td>14</td>\n",
       "      <td>May</td>\n",
       "      <td>Wednesday</td>\n",
       "    </tr>\n",
       "    <tr>\n",
       "      <th>199999</th>\n",
       "      <td>14.1</td>\n",
       "      <td>-73.984395</td>\n",
       "      <td>40.720077</td>\n",
       "      <td>-73.985508</td>\n",
       "      <td>40.768793</td>\n",
       "      <td>1.0</td>\n",
       "      <td>5.417791</td>\n",
       "      <td>4</td>\n",
       "      <td>May</td>\n",
       "      <td>Saturday</td>\n",
       "    </tr>\n",
       "  </tbody>\n",
       "</table>\n",
       "<p>195336 rows × 10 columns</p>\n",
       "</div>"
      ],
      "text/plain": [
       "        fare_amount  pickup_longitude  pickup_latitude  dropoff_longitude  \\\n",
       "0               7.5        -73.999817        40.738354         -73.999512   \n",
       "1               7.7        -73.994355        40.728225         -73.994710   \n",
       "2              12.9        -74.005043        40.740770         -73.962565   \n",
       "3               5.3        -73.976124        40.790844         -73.965316   \n",
       "4              16.0        -73.925023        40.744085         -73.973082   \n",
       "...             ...               ...              ...                ...   \n",
       "199995          3.0        -73.987042        40.739367         -73.986525   \n",
       "199996          7.5        -73.984722        40.736837         -74.006672   \n",
       "199997         30.9        -73.986017        40.756487         -73.858957   \n",
       "199998         14.5        -73.997124        40.725452         -73.983215   \n",
       "199999         14.1        -73.984395        40.720077         -73.985508   \n",
       "\n",
       "        dropoff_latitude  passenger_count  kilo_meters  HOUR    MONTH  \\\n",
       "0              40.723217              1.0     1.683325    19      May   \n",
       "1              40.750325              1.0     2.457593    20     July   \n",
       "2              40.772647              1.0     5.036384    21   August   \n",
       "3              40.803349              3.0     1.661686     8     June   \n",
       "4              40.761247              5.0     4.475456    17   August   \n",
       "...                  ...              ...          ...   ...      ...   \n",
       "199995         40.740297              1.0     0.112210    10  October   \n",
       "199996         40.739620              1.0     1.875053     1    March   \n",
       "199997         40.692588              2.0    12.850337     0     June   \n",
       "199998         40.695415              1.0     3.539720    14      May   \n",
       "199999         40.768793              1.0     5.417791     4      May   \n",
       "\n",
       "              DAY  \n",
       "0        Thursday  \n",
       "1          Friday  \n",
       "2          Monday  \n",
       "3          Friday  \n",
       "4        Thursday  \n",
       "...           ...  \n",
       "199995     Sunday  \n",
       "199996     Friday  \n",
       "199997     Monday  \n",
       "199998  Wednesday  \n",
       "199999   Saturday  \n",
       "\n",
       "[195336 rows x 10 columns]"
      ]
     },
     "execution_count": 36,
     "metadata": {},
     "output_type": "execute_result"
    }
   ],
   "source": [
    "df"
   ]
  },
  {
   "cell_type": "code",
   "execution_count": 37,
   "id": "1e12d6ca",
   "metadata": {
    "colab": {
     "base_uri": "https://localhost:8080/"
    },
    "id": "1e12d6ca",
    "outputId": "74afbfb0-f036-47e6-c823-9043688aa59b",
    "scrolled": true
   },
   "outputs": [
    {
     "data": {
      "text/plain": [
       "19"
      ]
     },
     "execution_count": 37,
     "metadata": {},
     "output_type": "execute_result"
    }
   ],
   "source": [
    "df['HOUR'].value_counts().idxmax()"
   ]
  },
  {
   "cell_type": "code",
   "execution_count": 38,
   "id": "f24ad772",
   "metadata": {
    "colab": {
     "base_uri": "https://localhost:8080/",
     "height": 0
    },
    "id": "f24ad772",
    "outputId": "8360da1b-1be7-42df-83af-b74a923a9dc8"
   },
   "outputs": [
    {
     "data": {
      "text/plain": [
       "<AxesSubplot:xlabel='HOUR', ylabel='count'>"
      ]
     },
     "execution_count": 38,
     "metadata": {},
     "output_type": "execute_result"
    },
    {
     "data": {
      "image/png": "[encoded data removed]",
      "text/plain": [
       "<Figure size 720x720 with 1 Axes>"
      ]
     },
     "metadata": {},
     "output_type": "display_data"
    }
   ],
   "source": [
    "sns.countplot(data = df , x = 'HOUR' )"
   ]
  },
  {
   "cell_type": "code",
   "execution_count": 39,
   "id": "edea4731",
   "metadata": {
    "colab": {
     "base_uri": "https://localhost:8080/",
     "height": 0
    },
    "id": "edea4731",
    "outputId": "5465cc3d-c8f1-4315-f610-eb5537ed5db3"
   },
   "outputs": [
    {
     "data": {
      "text/plain": [
       "'May'"
      ]
     },
     "execution_count": 39,
     "metadata": {},
     "output_type": "execute_result"
    }
   ],
   "source": [
    "df['MONTH'].value_counts().idxmax()\n",
    "\n"
   ]
  },
  {
   "cell_type": "code",
   "execution_count": 40,
   "id": "48199778",
   "metadata": {},
   "outputs": [
    {
     "data": {
      "text/plain": [
       "May          18433\n",
       "March        18305\n",
       "April        18129\n",
       "June         17391\n",
       "January      17268\n",
       "February     16288\n",
       "October      15862\n",
       "December     15156\n",
       "November     14982\n",
       "September    14927\n",
       "July         14760\n",
       "August       13835\n",
       "Name: MONTH, dtype: int64"
      ]
     },
     "execution_count": 40,
     "metadata": {},
     "output_type": "execute_result"
    }
   ],
   "source": [
    "df['MONTH'].value_counts()"
   ]
  },
  {
   "cell_type": "code",
   "execution_count": 41,
   "id": "fd3549d3",
   "metadata": {
    "colab": {
     "base_uri": "https://localhost:8080/",
     "height": 0
    },
    "id": "fd3549d3",
    "outputId": "f0b1cdef-c966-4071-98aa-437a5a5b5dc7"
   },
   "outputs": [
    {
     "data": {
      "text/plain": [
       "<AxesSubplot:xlabel='MONTH', ylabel='count'>"
      ]
     },
     "execution_count": 41,
     "metadata": {},
     "output_type": "execute_result"
    },
    {
     "data": {
      "image/png": "[encoded data removed]",
      "text/plain": [
       "<Figure size 720x720 with 1 Axes>"
      ]
     },
     "metadata": {},
     "output_type": "display_data"
    }
   ],
   "source": [
    "sns.countplot(data = df , x = 'MONTH' )"
   ]
  },
  {
   "cell_type": "code",
   "execution_count": 42,
   "id": "4f188850",
   "metadata": {
    "colab": {
     "base_uri": "https://localhost:8080/",
     "height": 0
    },
    "id": "4f188850",
    "outputId": "137cb80b-295d-4af0-caca-2d69ee20cd82",
    "scrolled": false
   },
   "outputs": [
    {
     "data": {
      "text/plain": [
       "'Friday'"
      ]
     },
     "execution_count": 42,
     "metadata": {},
     "output_type": "execute_result"
    }
   ],
   "source": [
    "df['DAY'].value_counts().idxmax()"
   ]
  },
  {
   "cell_type": "code",
   "execution_count": 43,
   "id": "a84e6cbd",
   "metadata": {
    "colab": {
     "base_uri": "https://localhost:8080/",
     "height": 0
    },
    "id": "a84e6cbd",
    "outputId": "84bdb8dd-811d-4212-8867-1824fe036107",
    "scrolled": true
   },
   "outputs": [
    {
     "data": {
      "text/plain": [
       "<AxesSubplot:xlabel='DAY', ylabel='count'>"
      ]
     },
     "execution_count": 43,
     "metadata": {},
     "output_type": "execute_result"
    },
    {
     "data": {
      "image/png": "[encoded data removed]",
      "text/plain": [
       "<Figure size 720x720 with 1 Axes>"
      ]
     },
     "metadata": {},
     "output_type": "display_data"
    }
   ],
   "source": [
    "sns.countplot(data = df , x = 'DAY' )"
   ]
  },
  {
   "cell_type": "code",
   "execution_count": 44,
   "id": "7bc22fce",
   "metadata": {},
   "outputs": [
    {
     "data": {
      "text/plain": [
       "Friday       30177\n",
       "Saturday     29566\n",
       "Thursday     29339\n",
       "Wednesday    28314\n",
       "Tuesday      27483\n",
       "Sunday       25838\n",
       "Monday       24619\n",
       "Name: DAY, dtype: int64"
      ]
     },
     "execution_count": 44,
     "metadata": {},
     "output_type": "execute_result"
    }
   ],
   "source": [
    "df['DAY'].value_counts()"
   ]
  },
  {
   "cell_type": "code",
   "execution_count": 45,
   "id": "d1e71c8b",
   "metadata": {
    "colab": {
     "base_uri": "https://localhost:8080/"
    },
    "id": "d1e71c8b",
    "outputId": "bea30c7d-dd63-4c6c-b769-2b1f75e85519"
   },
   "outputs": [
    {
     "data": {
      "text/plain": [
       "count    195336.000000\n",
       "mean         11.350167\n",
       "std           9.808356\n",
       "min         -52.000000\n",
       "25%           6.000000\n",
       "50%           8.500000\n",
       "75%          12.500000\n",
       "max         499.000000\n",
       "Name: fare_amount, dtype: float64"
      ]
     },
     "execution_count": 45,
     "metadata": {},
     "output_type": "execute_result"
    }
   ],
   "source": [
    "df['fare_amount'].describe()"
   ]
  },
  {
   "cell_type": "code",
   "execution_count": 46,
   "id": "4411ee72",
   "metadata": {
    "colab": {
     "base_uri": "https://localhost:8080/",
     "height": 0
    },
    "id": "4411ee72",
    "outputId": "58b9ce33-d135-4d01-bab0-898c1ce1e23c"
   },
   "outputs": [
    {
     "data": {
      "text/html": [
       "<div>\n",
       "<style scoped>\n",
       "    .dataframe tbody tr th:only-of-type {\n",
       "        vertical-align: middle;\n",
       "    }\n",
       "\n",
       "    .dataframe tbody tr th {\n",
       "        vertical-align: top;\n",
       "    }\n",
       "\n",
       "    .dataframe thead th {\n",
       "        text-align: right;\n",
       "    }\n",
       "</style>\n",
       "<table border=\"1\" class=\"dataframe\">\n",
       "  <thead>\n",
       "    <tr style=\"text-align: right;\">\n",
       "      <th></th>\n",
       "      <th>fare_amount</th>\n",
       "      <th>pickup_longitude</th>\n",
       "      <th>pickup_latitude</th>\n",
       "      <th>dropoff_longitude</th>\n",
       "      <th>dropoff_latitude</th>\n",
       "      <th>passenger_count</th>\n",
       "      <th>kilo_meters</th>\n",
       "      <th>HOUR</th>\n",
       "      <th>MONTH</th>\n",
       "      <th>DAY</th>\n",
       "    </tr>\n",
       "  </thead>\n",
       "  <tbody>\n",
       "    <tr>\n",
       "      <th>63395</th>\n",
       "      <td>-5.00</td>\n",
       "      <td>-73.992249</td>\n",
       "      <td>40.748936</td>\n",
       "      <td>-73.988518</td>\n",
       "      <td>40.748180</td>\n",
       "      <td>1.0</td>\n",
       "      <td>0.325307</td>\n",
       "      <td>23</td>\n",
       "      <td>March</td>\n",
       "      <td>Tuesday</td>\n",
       "    </tr>\n",
       "    <tr>\n",
       "      <th>71246</th>\n",
       "      <td>-3.30</td>\n",
       "      <td>-73.952725</td>\n",
       "      <td>40.768235</td>\n",
       "      <td>-73.949928</td>\n",
       "      <td>40.772208</td>\n",
       "      <td>2.0</td>\n",
       "      <td>0.500647</td>\n",
       "      <td>21</td>\n",
       "      <td>February</td>\n",
       "      <td>Thursday</td>\n",
       "    </tr>\n",
       "    <tr>\n",
       "      <th>79903</th>\n",
       "      <td>-3.50</td>\n",
       "      <td>-73.982430</td>\n",
       "      <td>40.775024</td>\n",
       "      <td>-73.981750</td>\n",
       "      <td>40.778439</td>\n",
       "      <td>1.0</td>\n",
       "      <td>0.383918</td>\n",
       "      <td>14</td>\n",
       "      <td>May</td>\n",
       "      <td>Friday</td>\n",
       "    </tr>\n",
       "    <tr>\n",
       "      <th>89322</th>\n",
       "      <td>-49.57</td>\n",
       "      <td>-73.972772</td>\n",
       "      <td>40.785657</td>\n",
       "      <td>-73.972867</td>\n",
       "      <td>40.785500</td>\n",
       "      <td>5.0</td>\n",
       "      <td>0.019203</td>\n",
       "      <td>8</td>\n",
       "      <td>March</td>\n",
       "      <td>Tuesday</td>\n",
       "    </tr>\n",
       "    <tr>\n",
       "      <th>92063</th>\n",
       "      <td>-23.70</td>\n",
       "      <td>-73.952740</td>\n",
       "      <td>40.768233</td>\n",
       "      <td>-74.007028</td>\n",
       "      <td>40.707338</td>\n",
       "      <td>3.0</td>\n",
       "      <td>8.171308</td>\n",
       "      <td>8</td>\n",
       "      <td>March</td>\n",
       "      <td>Friday</td>\n",
       "    </tr>\n",
       "    <tr>\n",
       "      <th>98875</th>\n",
       "      <td>-52.00</td>\n",
       "      <td>-74.000359</td>\n",
       "      <td>40.728729</td>\n",
       "      <td>-74.005699</td>\n",
       "      <td>40.728680</td>\n",
       "      <td>5.0</td>\n",
       "      <td>0.450055</td>\n",
       "      <td>21</td>\n",
       "      <td>March</td>\n",
       "      <td>Friday</td>\n",
       "    </tr>\n",
       "    <tr>\n",
       "      <th>104080</th>\n",
       "      <td>-7.30</td>\n",
       "      <td>-73.952623</td>\n",
       "      <td>40.766942</td>\n",
       "      <td>-73.953787</td>\n",
       "      <td>40.784882</td>\n",
       "      <td>1.0</td>\n",
       "      <td>1.997246</td>\n",
       "      <td>20</td>\n",
       "      <td>March</td>\n",
       "      <td>Tuesday</td>\n",
       "    </tr>\n",
       "    <tr>\n",
       "      <th>139272</th>\n",
       "      <td>-6.90</td>\n",
       "      <td>-73.988727</td>\n",
       "      <td>40.736445</td>\n",
       "      <td>-73.977622</td>\n",
       "      <td>40.750487</td>\n",
       "      <td>1.0</td>\n",
       "      <td>1.820227</td>\n",
       "      <td>18</td>\n",
       "      <td>February</td>\n",
       "      <td>Tuesday</td>\n",
       "    </tr>\n",
       "    <tr>\n",
       "      <th>148803</th>\n",
       "      <td>-5.70</td>\n",
       "      <td>-73.977300</td>\n",
       "      <td>40.742783</td>\n",
       "      <td>-73.988837</td>\n",
       "      <td>40.747465</td>\n",
       "      <td>3.0</td>\n",
       "      <td>1.102573</td>\n",
       "      <td>10</td>\n",
       "      <td>February</td>\n",
       "      <td>Friday</td>\n",
       "    </tr>\n",
       "    <tr>\n",
       "      <th>150301</th>\n",
       "      <td>-3.00</td>\n",
       "      <td>-74.004646</td>\n",
       "      <td>40.707355</td>\n",
       "      <td>-74.004013</td>\n",
       "      <td>40.707699</td>\n",
       "      <td>1.0</td>\n",
       "      <td>0.065624</td>\n",
       "      <td>7</td>\n",
       "      <td>June</td>\n",
       "      <td>Thursday</td>\n",
       "    </tr>\n",
       "    <tr>\n",
       "      <th>151681</th>\n",
       "      <td>-10.90</td>\n",
       "      <td>-73.964257</td>\n",
       "      <td>40.760630</td>\n",
       "      <td>-73.994222</td>\n",
       "      <td>40.761533</td>\n",
       "      <td>1.0</td>\n",
       "      <td>2.525753</td>\n",
       "      <td>5</td>\n",
       "      <td>February</td>\n",
       "      <td>Wednesday</td>\n",
       "    </tr>\n",
       "    <tr>\n",
       "      <th>157412</th>\n",
       "      <td>-3.50</td>\n",
       "      <td>-73.986084</td>\n",
       "      <td>40.762146</td>\n",
       "      <td>-73.980476</td>\n",
       "      <td>40.759823</td>\n",
       "      <td>1.0</td>\n",
       "      <td>0.538322</td>\n",
       "      <td>3</td>\n",
       "      <td>May</td>\n",
       "      <td>Wednesday</td>\n",
       "    </tr>\n",
       "    <tr>\n",
       "      <th>164056</th>\n",
       "      <td>-50.50</td>\n",
       "      <td>-73.784868</td>\n",
       "      <td>40.648677</td>\n",
       "      <td>-73.976975</td>\n",
       "      <td>40.763522</td>\n",
       "      <td>3.0</td>\n",
       "      <td>20.622811</td>\n",
       "      <td>15</td>\n",
       "      <td>March</td>\n",
       "      <td>Tuesday</td>\n",
       "    </tr>\n",
       "    <tr>\n",
       "      <th>179111</th>\n",
       "      <td>-3.50</td>\n",
       "      <td>-73.989059</td>\n",
       "      <td>40.760181</td>\n",
       "      <td>-73.986649</td>\n",
       "      <td>40.761829</td>\n",
       "      <td>1.0</td>\n",
       "      <td>0.273512</td>\n",
       "      <td>22</td>\n",
       "      <td>February</td>\n",
       "      <td>Thursday</td>\n",
       "    </tr>\n",
       "    <tr>\n",
       "      <th>180444</th>\n",
       "      <td>-3.00</td>\n",
       "      <td>-73.983727</td>\n",
       "      <td>40.725910</td>\n",
       "      <td>-73.986099</td>\n",
       "      <td>40.722450</td>\n",
       "      <td>2.0</td>\n",
       "      <td>0.433585</td>\n",
       "      <td>4</td>\n",
       "      <td>May</td>\n",
       "      <td>Sunday</td>\n",
       "    </tr>\n",
       "    <tr>\n",
       "      <th>190925</th>\n",
       "      <td>-5.50</td>\n",
       "      <td>-73.988701</td>\n",
       "      <td>40.742649</td>\n",
       "      <td>-73.985924</td>\n",
       "      <td>40.735001</td>\n",
       "      <td>1.0</td>\n",
       "      <td>0.882070</td>\n",
       "      <td>23</td>\n",
       "      <td>May</td>\n",
       "      <td>Friday</td>\n",
       "    </tr>\n",
       "  </tbody>\n",
       "</table>\n",
       "</div>"
      ],
      "text/plain": [
       "        fare_amount  pickup_longitude  pickup_latitude  dropoff_longitude  \\\n",
       "63395         -5.00        -73.992249        40.748936         -73.988518   \n",
       "71246         -3.30        -73.952725        40.768235         -73.949928   \n",
       "79903         -3.50        -73.982430        40.775024         -73.981750   \n",
       "89322        -49.57        -73.972772        40.785657         -73.972867   \n",
       "92063        -23.70        -73.952740        40.768233         -74.007028   \n",
       "98875        -52.00        -74.000359        40.728729         -74.005699   \n",
       "104080        -7.30        -73.952623        40.766942         -73.953787   \n",
       "139272        -6.90        -73.988727        40.736445         -73.977622   \n",
       "148803        -5.70        -73.977300        40.742783         -73.988837   \n",
       "150301        -3.00        -74.004646        40.707355         -74.004013   \n",
       "151681       -10.90        -73.964257        40.760630         -73.994222   \n",
       "157412        -3.50        -73.986084        40.762146         -73.980476   \n",
       "164056       -50.50        -73.784868        40.648677         -73.976975   \n",
       "179111        -3.50        -73.989059        40.760181         -73.986649   \n",
       "180444        -3.00        -73.983727        40.725910         -73.986099   \n",
       "190925        -5.50        -73.988701        40.742649         -73.985924   \n",
       "\n",
       "        dropoff_latitude  passenger_count  kilo_meters  HOUR     MONTH  \\\n",
       "63395          40.748180              1.0     0.325307    23     March   \n",
       "71246          40.772208              2.0     0.500647    21  February   \n",
       "79903          40.778439              1.0     0.383918    14       May   \n",
       "89322          40.785500              5.0     0.019203     8     March   \n",
       "92063          40.707338              3.0     8.171308     8     March   \n",
       "98875          40.728680              5.0     0.450055    21     March   \n",
       "104080         40.784882              1.0     1.997246    20     March   \n",
       "139272         40.750487              1.0     1.820227    18  February   \n",
       "148803         40.747465              3.0     1.102573    10  February   \n",
       "150301         40.707699              1.0     0.065624     7      June   \n",
       "151681         40.761533              1.0     2.525753     5  February   \n",
       "157412         40.759823              1.0     0.538322     3       May   \n",
       "164056         40.763522              3.0    20.622811    15     March   \n",
       "179111         40.761829              1.0     0.273512    22  February   \n",
       "180444         40.722450              2.0     0.433585     4       May   \n",
       "190925         40.735001              1.0     0.882070    23       May   \n",
       "\n",
       "              DAY  \n",
       "63395     Tuesday  \n",
       "71246    Thursday  \n",
       "79903      Friday  \n",
       "89322     Tuesday  \n",
       "92063      Friday  \n",
       "98875      Friday  \n",
       "104080    Tuesday  \n",
       "139272    Tuesday  \n",
       "148803     Friday  \n",
       "150301   Thursday  \n",
       "151681  Wednesday  \n",
       "157412  Wednesday  \n",
       "164056    Tuesday  \n",
       "179111   Thursday  \n",
       "180444     Sunday  \n",
       "190925     Friday  "
      ]
     },
     "execution_count": 46,
     "metadata": {},
     "output_type": "execute_result"
    }
   ],
   "source": [
    "df[df['fare_amount']<0]"
   ]
  },
  {
   "cell_type": "code",
   "execution_count": 47,
   "id": "073444d2",
   "metadata": {
    "id": "073444d2"
   },
   "outputs": [],
   "source": [
    "df.drop([63395,71246,79903,89322,92063,98875,104080,139272,148803, 150301,151681,157412,164056,179111,180444,190925] , axis = 0 , inplace=True)"
   ]
  },
  {
   "cell_type": "code",
   "execution_count": 48,
   "id": "29fa708e",
   "metadata": {
    "colab": {
     "base_uri": "https://localhost:8080/",
     "height": 0
    },
    "id": "29fa708e",
    "outputId": "938adc19-6027-4c98-df7f-ee1cdd2e2ab8"
   },
   "outputs": [
    {
     "data": {
      "text/html": [
       "<div>\n",
       "<style scoped>\n",
       "    .dataframe tbody tr th:only-of-type {\n",
       "        vertical-align: middle;\n",
       "    }\n",
       "\n",
       "    .dataframe tbody tr th {\n",
       "        vertical-align: top;\n",
       "    }\n",
       "\n",
       "    .dataframe thead th {\n",
       "        text-align: right;\n",
       "    }\n",
       "</style>\n",
       "<table border=\"1\" class=\"dataframe\">\n",
       "  <thead>\n",
       "    <tr style=\"text-align: right;\">\n",
       "      <th></th>\n",
       "      <th>fare_amount</th>\n",
       "      <th>pickup_longitude</th>\n",
       "      <th>pickup_latitude</th>\n",
       "      <th>dropoff_longitude</th>\n",
       "      <th>dropoff_latitude</th>\n",
       "      <th>passenger_count</th>\n",
       "      <th>kilo_meters</th>\n",
       "      <th>HOUR</th>\n",
       "      <th>MONTH</th>\n",
       "      <th>DAY</th>\n",
       "    </tr>\n",
       "  </thead>\n",
       "  <tbody>\n",
       "  </tbody>\n",
       "</table>\n",
       "</div>"
      ],
      "text/plain": [
       "Empty DataFrame\n",
       "Columns: [fare_amount, pickup_longitude, pickup_latitude, dropoff_longitude, dropoff_latitude, passenger_count, kilo_meters, HOUR, MONTH, DAY]\n",
       "Index: []"
      ]
     },
     "execution_count": 48,
     "metadata": {},
     "output_type": "execute_result"
    }
   ],
   "source": [
    "df[df['fare_amount']<0]"
   ]
  },
  {
   "cell_type": "code",
   "execution_count": 49,
   "id": "8acb11ea",
   "metadata": {
    "colab": {
     "base_uri": "https://localhost:8080/",
     "height": 0
    },
    "id": "8acb11ea",
    "outputId": "eee59d69-31d1-4b49-f8f9-ebb6c926b458"
   },
   "outputs": [
    {
     "data": {
      "text/plain": [
       "<AxesSubplot:xlabel='fare_amount'>"
      ]
     },
     "execution_count": 49,
     "metadata": {},
     "output_type": "execute_result"
    },
    {
     "data": {
      "image/png": "[encoded data removed]",
      "text/plain": [
       "<Figure size 720x720 with 1 Axes>"
      ]
     },
     "metadata": {},
     "output_type": "display_data"
    }
   ],
   "source": [
    "sns.boxplot(data = df , x='fare_amount')"
   ]
  },
  {
   "cell_type": "code",
   "execution_count": 50,
   "id": "86c896a5",
   "metadata": {
    "id": "86c896a5"
   },
   "outputs": [],
   "source": [
    "from datasist.structdata import detect_outliers"
   ]
  },
  {
   "cell_type": "code",
   "execution_count": 51,
   "id": "f664b100",
   "metadata": {
    "colab": {
     "base_uri": "https://localhost:8080/"
    },
    "id": "f664b100",
    "outputId": "86171d90-3b69-4f1c-de67-c9db9d2c1abc"
   },
   "outputs": [
    {
     "data": {
      "text/plain": [
       "16741"
      ]
     },
     "execution_count": 51,
     "metadata": {},
     "output_type": "execute_result"
    }
   ],
   "source": [
    "outliers_indices = detect_outliers(df , 0 , ['fare_amount'])\n",
    "len (outliers_indices)"
   ]
  },
  {
   "cell_type": "code",
   "execution_count": 52,
   "id": "fc4ccebb",
   "metadata": {
    "id": "fc4ccebb"
   },
   "outputs": [],
   "source": [
    "df.drop(outliers_indices , inplace= True)"
   ]
  },
  {
   "cell_type": "code",
   "execution_count": 53,
   "id": "SVyUbk4Dldzi",
   "metadata": {
    "colab": {
     "base_uri": "https://localhost:8080/"
    },
    "id": "SVyUbk4Dldzi",
    "outputId": "9484cf5c-b6f6-4704-e731-15a65f82154e"
   },
   "outputs": [
    {
     "data": {
      "text/plain": [
       "20163"
      ]
     },
     "execution_count": 53,
     "metadata": {},
     "output_type": "execute_result"
    }
   ],
   "source": [
    "outliers_indices2 = detect_outliers(df , 0 , ['passenger_count'])\n",
    "len (outliers_indices2)"
   ]
  },
  {
   "cell_type": "code",
   "execution_count": 54,
   "id": "EdJEbWcylfg5",
   "metadata": {
    "id": "EdJEbWcylfg5"
   },
   "outputs": [],
   "source": [
    "df.drop(outliers_indices2 , inplace= True)"
   ]
  },
  {
   "cell_type": "code",
   "execution_count": 55,
   "id": "5d5d4de4",
   "metadata": {
    "colab": {
     "base_uri": "https://localhost:8080/",
     "height": 0
    },
    "id": "5d5d4de4",
    "outputId": "d6ed5b78-495e-4611-c72b-2e65c9596eed"
   },
   "outputs": [
    {
     "data": {
      "text/plain": [
       "<AxesSubplot:xlabel='fare_amount'>"
      ]
     },
     "execution_count": 55,
     "metadata": {},
     "output_type": "execute_result"
    },
    {
     "data": {
      "image/png": "[encoded data removed]",
      "text/plain": [
       "<Figure size 720x720 with 1 Axes>"
      ]
     },
     "metadata": {},
     "output_type": "display_data"
    }
   ],
   "source": [
    "sns.boxplot(data = df , x='fare_amount')"
   ]
  },
  {
   "cell_type": "code",
   "execution_count": 56,
   "id": "4ed278b7",
   "metadata": {
    "colab": {
     "base_uri": "https://localhost:8080/"
    },
    "id": "4ed278b7",
    "outputId": "debcf5e4-51a7-44cb-a0ec-0eec0cf1b07f"
   },
   "outputs": [
    {
     "data": {
      "text/plain": [
       "count    158416.000000\n",
       "mean          3.764551\n",
       "std          81.857367\n",
       "min           0.000000\n",
       "25%           1.198533\n",
       "50%           1.990772\n",
       "75%           3.306525\n",
       "max        8667.705423\n",
       "Name: kilo_meters, dtype: float64"
      ]
     },
     "execution_count": 56,
     "metadata": {},
     "output_type": "execute_result"
    }
   ],
   "source": [
    "df['kilo_meters'].describe()"
   ]
  },
  {
   "cell_type": "code",
   "execution_count": 57,
   "id": "37c65466",
   "metadata": {
    "colab": {
     "base_uri": "https://localhost:8080/",
     "height": 0
    },
    "id": "37c65466",
    "outputId": "1d8f7016-9bc2-4516-ef7a-7a4695e3b09b",
    "scrolled": true
   },
   "outputs": [
    {
     "data": {
      "text/plain": [
       "<AxesSubplot:xlabel='kilo_meters'>"
      ]
     },
     "execution_count": 57,
     "metadata": {},
     "output_type": "execute_result"
    },
    {
     "data": {
      "image/png": "[encoded data removed]",
      "text/plain": [
       "<Figure size 720x720 with 1 Axes>"
      ]
     },
     "metadata": {},
     "output_type": "display_data"
    }
   ],
   "source": [
    "sns.boxplot(data = df , x='kilo_meters')"
   ]
  },
  {
   "cell_type": "code",
   "execution_count": 58,
   "id": "5dfcd6cb",
   "metadata": {
    "colab": {
     "base_uri": "https://localhost:8080/",
     "height": 0
    },
    "id": "5dfcd6cb",
    "outputId": "1d430064-a956-4685-d8d8-445dc8af04c5"
   },
   "outputs": [
    {
     "data": {
      "text/html": [
       "<div>\n",
       "<style scoped>\n",
       "    .dataframe tbody tr th:only-of-type {\n",
       "        vertical-align: middle;\n",
       "    }\n",
       "\n",
       "    .dataframe tbody tr th {\n",
       "        vertical-align: top;\n",
       "    }\n",
       "\n",
       "    .dataframe thead th {\n",
       "        text-align: right;\n",
       "    }\n",
       "</style>\n",
       "<table border=\"1\" class=\"dataframe\">\n",
       "  <thead>\n",
       "    <tr style=\"text-align: right;\">\n",
       "      <th></th>\n",
       "      <th>fare_amount</th>\n",
       "      <th>pickup_longitude</th>\n",
       "      <th>pickup_latitude</th>\n",
       "      <th>dropoff_longitude</th>\n",
       "      <th>dropoff_latitude</th>\n",
       "      <th>passenger_count</th>\n",
       "      <th>kilo_meters</th>\n",
       "      <th>HOUR</th>\n",
       "      <th>MONTH</th>\n",
       "      <th>DAY</th>\n",
       "    </tr>\n",
       "  </thead>\n",
       "  <tbody>\n",
       "    <tr>\n",
       "      <th>1945</th>\n",
       "      <td>7.0</td>\n",
       "      <td>-0.131667</td>\n",
       "      <td>40.757063</td>\n",
       "      <td>-73.991593</td>\n",
       "      <td>40.749953</td>\n",
       "      <td>1.0</td>\n",
       "      <td>6021.122795</td>\n",
       "      <td>16</td>\n",
       "      <td>February</td>\n",
       "      <td>Sunday</td>\n",
       "    </tr>\n",
       "    <tr>\n",
       "      <th>2167</th>\n",
       "      <td>5.7</td>\n",
       "      <td>-1.216667</td>\n",
       "      <td>40.748597</td>\n",
       "      <td>-74.004822</td>\n",
       "      <td>40.734670</td>\n",
       "      <td>1.0</td>\n",
       "      <td>5941.068194</td>\n",
       "      <td>12</td>\n",
       "      <td>July</td>\n",
       "      <td>Saturday</td>\n",
       "    </tr>\n",
       "    <tr>\n",
       "      <th>4949</th>\n",
       "      <td>4.9</td>\n",
       "      <td>-748.016667</td>\n",
       "      <td>40.739957</td>\n",
       "      <td>-74.003570</td>\n",
       "      <td>40.734192</td>\n",
       "      <td>1.0</td>\n",
       "      <td>3828.765626</td>\n",
       "      <td>0</td>\n",
       "      <td>April</td>\n",
       "      <td>Saturday</td>\n",
       "    </tr>\n",
       "    <tr>\n",
       "      <th>6594</th>\n",
       "      <td>9.3</td>\n",
       "      <td>-1.866667</td>\n",
       "      <td>40.765987</td>\n",
       "      <td>-73.972280</td>\n",
       "      <td>40.793807</td>\n",
       "      <td>1.0</td>\n",
       "      <td>5885.536926</td>\n",
       "      <td>19</td>\n",
       "      <td>June</td>\n",
       "      <td>Tuesday</td>\n",
       "    </tr>\n",
       "    <tr>\n",
       "      <th>17926</th>\n",
       "      <td>5.3</td>\n",
       "      <td>-73.962162</td>\n",
       "      <td>40.763307</td>\n",
       "      <td>-4.933332</td>\n",
       "      <td>40.774010</td>\n",
       "      <td>1.0</td>\n",
       "      <td>5651.404503</td>\n",
       "      <td>11</td>\n",
       "      <td>February</td>\n",
       "      <td>Saturday</td>\n",
       "    </tr>\n",
       "    <tr>\n",
       "      <th>19846</th>\n",
       "      <td>10.5</td>\n",
       "      <td>-74.005492</td>\n",
       "      <td>40.738877</td>\n",
       "      <td>-73.967477</td>\n",
       "      <td>0.760607</td>\n",
       "      <td>3.0</td>\n",
       "      <td>4445.388733</td>\n",
       "      <td>11</td>\n",
       "      <td>September</td>\n",
       "      <td>Sunday</td>\n",
       "    </tr>\n",
       "    <tr>\n",
       "      <th>32549</th>\n",
       "      <td>15.7</td>\n",
       "      <td>-74.016055</td>\n",
       "      <td>40.715155</td>\n",
       "      <td>-737.916665</td>\n",
       "      <td>40.697862</td>\n",
       "      <td>2.0</td>\n",
       "      <td>4644.274242</td>\n",
       "      <td>10</td>\n",
       "      <td>June</td>\n",
       "      <td>Saturday</td>\n",
       "    </tr>\n",
       "    <tr>\n",
       "      <th>36390</th>\n",
       "      <td>5.3</td>\n",
       "      <td>-7.690000</td>\n",
       "      <td>40.713002</td>\n",
       "      <td>-73.997342</td>\n",
       "      <td>40.723965</td>\n",
       "      <td>1.0</td>\n",
       "      <td>5445.829910</td>\n",
       "      <td>15</td>\n",
       "      <td>March</td>\n",
       "      <td>Tuesday</td>\n",
       "    </tr>\n",
       "    <tr>\n",
       "      <th>36780</th>\n",
       "      <td>5.7</td>\n",
       "      <td>-7.583332</td>\n",
       "      <td>40.768540</td>\n",
       "      <td>-73.974525</td>\n",
       "      <td>40.757332</td>\n",
       "      <td>2.0</td>\n",
       "      <td>5448.448068</td>\n",
       "      <td>11</td>\n",
       "      <td>March</td>\n",
       "      <td>Wednesday</td>\n",
       "    </tr>\n",
       "    <tr>\n",
       "      <th>40908</th>\n",
       "      <td>8.1</td>\n",
       "      <td>-93.824668</td>\n",
       "      <td>43.486656</td>\n",
       "      <td>-54.294363</td>\n",
       "      <td>35.174169</td>\n",
       "      <td>1.0</td>\n",
       "      <td>3487.798706</td>\n",
       "      <td>19</td>\n",
       "      <td>July</td>\n",
       "      <td>Thursday</td>\n",
       "    </tr>\n",
       "    <tr>\n",
       "      <th>59717</th>\n",
       "      <td>7.3</td>\n",
       "      <td>-0.066667</td>\n",
       "      <td>40.739207</td>\n",
       "      <td>-74.004487</td>\n",
       "      <td>40.741702</td>\n",
       "      <td>2.0</td>\n",
       "      <td>6028.292410</td>\n",
       "      <td>1</td>\n",
       "      <td>April</td>\n",
       "      <td>Saturday</td>\n",
       "    </tr>\n",
       "    <tr>\n",
       "      <th>60414</th>\n",
       "      <td>7.7</td>\n",
       "      <td>-73.982242</td>\n",
       "      <td>40.771450</td>\n",
       "      <td>-7.980425</td>\n",
       "      <td>40.745385</td>\n",
       "      <td>1.0</td>\n",
       "      <td>5418.666469</td>\n",
       "      <td>1</td>\n",
       "      <td>January</td>\n",
       "      <td>Saturday</td>\n",
       "    </tr>\n",
       "    <tr>\n",
       "      <th>70889</th>\n",
       "      <td>4.5</td>\n",
       "      <td>-73.999647</td>\n",
       "      <td>40.768180</td>\n",
       "      <td>0.000213</td>\n",
       "      <td>-0.000013</td>\n",
       "      <td>1.0</td>\n",
       "      <td>8667.705423</td>\n",
       "      <td>16</td>\n",
       "      <td>June</td>\n",
       "      <td>Tuesday</td>\n",
       "    </tr>\n",
       "    <tr>\n",
       "      <th>72518</th>\n",
       "      <td>7.3</td>\n",
       "      <td>-73.962300</td>\n",
       "      <td>40.763057</td>\n",
       "      <td>-73.979032</td>\n",
       "      <td>4.078052</td>\n",
       "      <td>1.0</td>\n",
       "      <td>4079.192546</td>\n",
       "      <td>21</td>\n",
       "      <td>February</td>\n",
       "      <td>Friday</td>\n",
       "    </tr>\n",
       "    <tr>\n",
       "      <th>77048</th>\n",
       "      <td>12.5</td>\n",
       "      <td>-73.973397</td>\n",
       "      <td>40.784545</td>\n",
       "      <td>-0.116667</td>\n",
       "      <td>40.750467</td>\n",
       "      <td>1.0</td>\n",
       "      <td>6019.510573</td>\n",
       "      <td>9</td>\n",
       "      <td>October</td>\n",
       "      <td>Tuesday</td>\n",
       "    </tr>\n",
       "    <tr>\n",
       "      <th>77532</th>\n",
       "      <td>8.9</td>\n",
       "      <td>-73.975138</td>\n",
       "      <td>40.741650</td>\n",
       "      <td>-7.003355</td>\n",
       "      <td>40.747352</td>\n",
       "      <td>1.0</td>\n",
       "      <td>5495.001542</td>\n",
       "      <td>8</td>\n",
       "      <td>December</td>\n",
       "      <td>Thursday</td>\n",
       "    </tr>\n",
       "    <tr>\n",
       "      <th>82680</th>\n",
       "      <td>5.7</td>\n",
       "      <td>-73.964317</td>\n",
       "      <td>40.773350</td>\n",
       "      <td>-73.963500</td>\n",
       "      <td>4.068682</td>\n",
       "      <td>2.0</td>\n",
       "      <td>4081.378632</td>\n",
       "      <td>9</td>\n",
       "      <td>December</td>\n",
       "      <td>Thursday</td>\n",
       "    </tr>\n",
       "    <tr>\n",
       "      <th>87194</th>\n",
       "      <td>4.1</td>\n",
       "      <td>-1.216667</td>\n",
       "      <td>40.783922</td>\n",
       "      <td>-73.954310</td>\n",
       "      <td>40.779332</td>\n",
       "      <td>3.0</td>\n",
       "      <td>5933.378733</td>\n",
       "      <td>13</td>\n",
       "      <td>December</td>\n",
       "      <td>Friday</td>\n",
       "    </tr>\n",
       "    <tr>\n",
       "      <th>99263</th>\n",
       "      <td>6.1</td>\n",
       "      <td>-7.999920</td>\n",
       "      <td>40.734600</td>\n",
       "      <td>-73.984215</td>\n",
       "      <td>40.737330</td>\n",
       "      <td>1.0</td>\n",
       "      <td>5419.255291</td>\n",
       "      <td>1</td>\n",
       "      <td>February</td>\n",
       "      <td>Friday</td>\n",
       "    </tr>\n",
       "    <tr>\n",
       "      <th>101779</th>\n",
       "      <td>6.9</td>\n",
       "      <td>-0.947412</td>\n",
       "      <td>40.790680</td>\n",
       "      <td>-73.957062</td>\n",
       "      <td>40.771520</td>\n",
       "      <td>1.0</td>\n",
       "      <td>5954.059108</td>\n",
       "      <td>21</td>\n",
       "      <td>April</td>\n",
       "      <td>Thursday</td>\n",
       "    </tr>\n",
       "    <tr>\n",
       "      <th>103745</th>\n",
       "      <td>12.9</td>\n",
       "      <td>-736.216667</td>\n",
       "      <td>40.767035</td>\n",
       "      <td>-73.982377</td>\n",
       "      <td>40.725562</td>\n",
       "      <td>1.0</td>\n",
       "      <td>4773.701356</td>\n",
       "      <td>19</td>\n",
       "      <td>October</td>\n",
       "      <td>Friday</td>\n",
       "    </tr>\n",
       "    <tr>\n",
       "      <th>113876</th>\n",
       "      <td>8.9</td>\n",
       "      <td>-73.968915</td>\n",
       "      <td>0.666667</td>\n",
       "      <td>-73.978255</td>\n",
       "      <td>40.786552</td>\n",
       "      <td>1.0</td>\n",
       "      <td>4461.134071</td>\n",
       "      <td>20</td>\n",
       "      <td>October</td>\n",
       "      <td>Monday</td>\n",
       "    </tr>\n",
       "    <tr>\n",
       "      <th>129303</th>\n",
       "      <td>10.1</td>\n",
       "      <td>-0.128333</td>\n",
       "      <td>0.966785</td>\n",
       "      <td>-74.000577</td>\n",
       "      <td>40.762683</td>\n",
       "      <td>1.0</td>\n",
       "      <td>8585.341373</td>\n",
       "      <td>13</td>\n",
       "      <td>May</td>\n",
       "      <td>Friday</td>\n",
       "    </tr>\n",
       "    <tr>\n",
       "      <th>130112</th>\n",
       "      <td>10.9</td>\n",
       "      <td>-73.961250</td>\n",
       "      <td>40.801672</td>\n",
       "      <td>-7.990505</td>\n",
       "      <td>40.761437</td>\n",
       "      <td>1.0</td>\n",
       "      <td>5414.249806</td>\n",
       "      <td>14</td>\n",
       "      <td>June</td>\n",
       "      <td>Sunday</td>\n",
       "    </tr>\n",
       "    <tr>\n",
       "      <th>136727</th>\n",
       "      <td>8.1</td>\n",
       "      <td>-7.500000</td>\n",
       "      <td>40.746720</td>\n",
       "      <td>-73.989973</td>\n",
       "      <td>40.757320</td>\n",
       "      <td>2.0</td>\n",
       "      <td>5457.052567</td>\n",
       "      <td>16</td>\n",
       "      <td>November</td>\n",
       "      <td>Tuesday</td>\n",
       "    </tr>\n",
       "    <tr>\n",
       "      <th>138075</th>\n",
       "      <td>2.9</td>\n",
       "      <td>-73.977795</td>\n",
       "      <td>40.757315</td>\n",
       "      <td>-0.116667</td>\n",
       "      <td>40.754547</td>\n",
       "      <td>1.0</td>\n",
       "      <td>6020.976282</td>\n",
       "      <td>19</td>\n",
       "      <td>September</td>\n",
       "      <td>Monday</td>\n",
       "    </tr>\n",
       "    <tr>\n",
       "      <th>144073</th>\n",
       "      <td>6.1</td>\n",
       "      <td>-73.997260</td>\n",
       "      <td>40.731502</td>\n",
       "      <td>-0.066667</td>\n",
       "      <td>40.728990</td>\n",
       "      <td>1.0</td>\n",
       "      <td>6028.746711</td>\n",
       "      <td>13</td>\n",
       "      <td>May</td>\n",
       "      <td>Sunday</td>\n",
       "    </tr>\n",
       "    <tr>\n",
       "      <th>144253</th>\n",
       "      <td>7.3</td>\n",
       "      <td>-768.550000</td>\n",
       "      <td>40.757812</td>\n",
       "      <td>-73.997040</td>\n",
       "      <td>40.740007</td>\n",
       "      <td>1.0</td>\n",
       "      <td>2136.046705</td>\n",
       "      <td>11</td>\n",
       "      <td>August</td>\n",
       "      <td>Wednesday</td>\n",
       "    </tr>\n",
       "    <tr>\n",
       "      <th>145709</th>\n",
       "      <td>7.7</td>\n",
       "      <td>-73.995277</td>\n",
       "      <td>40.717490</td>\n",
       "      <td>-0.333333</td>\n",
       "      <td>40.731828</td>\n",
       "      <td>1.0</td>\n",
       "      <td>6008.963537</td>\n",
       "      <td>14</td>\n",
       "      <td>August</td>\n",
       "      <td>Saturday</td>\n",
       "    </tr>\n",
       "    <tr>\n",
       "      <th>146281</th>\n",
       "      <td>6.1</td>\n",
       "      <td>-73.985387</td>\n",
       "      <td>0.083332</td>\n",
       "      <td>-73.993192</td>\n",
       "      <td>40.762007</td>\n",
       "      <td>1.0</td>\n",
       "      <td>4523.268741</td>\n",
       "      <td>20</td>\n",
       "      <td>January</td>\n",
       "      <td>Sunday</td>\n",
       "    </tr>\n",
       "    <tr>\n",
       "      <th>151065</th>\n",
       "      <td>7.3</td>\n",
       "      <td>-73.993172</td>\n",
       "      <td>0.669237</td>\n",
       "      <td>-74.002320</td>\n",
       "      <td>40.730042</td>\n",
       "      <td>1.0</td>\n",
       "      <td>4454.564662</td>\n",
       "      <td>21</td>\n",
       "      <td>May</td>\n",
       "      <td>Monday</td>\n",
       "    </tr>\n",
       "    <tr>\n",
       "      <th>161652</th>\n",
       "      <td>4.1</td>\n",
       "      <td>-735.433332</td>\n",
       "      <td>40.740605</td>\n",
       "      <td>-74.006373</td>\n",
       "      <td>40.739607</td>\n",
       "      <td>1.0</td>\n",
       "      <td>4838.101091</td>\n",
       "      <td>12</td>\n",
       "      <td>May</td>\n",
       "      <td>Wednesday</td>\n",
       "    </tr>\n",
       "    <tr>\n",
       "      <th>169299</th>\n",
       "      <td>8.9</td>\n",
       "      <td>-7.983207</td>\n",
       "      <td>40.767492</td>\n",
       "      <td>-73.967277</td>\n",
       "      <td>40.787930</td>\n",
       "      <td>1.0</td>\n",
       "      <td>5415.615321</td>\n",
       "      <td>14</td>\n",
       "      <td>May</td>\n",
       "      <td>Friday</td>\n",
       "    </tr>\n",
       "    <tr>\n",
       "      <th>177439</th>\n",
       "      <td>7.7</td>\n",
       "      <td>-1.216667</td>\n",
       "      <td>40.772347</td>\n",
       "      <td>-73.960592</td>\n",
       "      <td>40.773115</td>\n",
       "      <td>2.0</td>\n",
       "      <td>5934.712960</td>\n",
       "      <td>23</td>\n",
       "      <td>April</td>\n",
       "      <td>Wednesday</td>\n",
       "    </tr>\n",
       "    <tr>\n",
       "      <th>190768</th>\n",
       "      <td>5.7</td>\n",
       "      <td>-73.978315</td>\n",
       "      <td>40.748417</td>\n",
       "      <td>-3.975457</td>\n",
       "      <td>40.757267</td>\n",
       "      <td>1.0</td>\n",
       "      <td>5727.580621</td>\n",
       "      <td>9</td>\n",
       "      <td>October</td>\n",
       "      <td>Saturday</td>\n",
       "    </tr>\n",
       "  </tbody>\n",
       "</table>\n",
       "</div>"
      ],
      "text/plain": [
       "        fare_amount  pickup_longitude  pickup_latitude  dropoff_longitude  \\\n",
       "1945            7.0         -0.131667        40.757063         -73.991593   \n",
       "2167            5.7         -1.216667        40.748597         -74.004822   \n",
       "4949            4.9       -748.016667        40.739957         -74.003570   \n",
       "6594            9.3         -1.866667        40.765987         -73.972280   \n",
       "17926           5.3        -73.962162        40.763307          -4.933332   \n",
       "19846          10.5        -74.005492        40.738877         -73.967477   \n",
       "32549          15.7        -74.016055        40.715155        -737.916665   \n",
       "36390           5.3         -7.690000        40.713002         -73.997342   \n",
       "36780           5.7         -7.583332        40.768540         -73.974525   \n",
       "40908           8.1        -93.824668        43.486656         -54.294363   \n",
       "59717           7.3         -0.066667        40.739207         -74.004487   \n",
       "60414           7.7        -73.982242        40.771450          -7.980425   \n",
       "70889           4.5        -73.999647        40.768180           0.000213   \n",
       "72518           7.3        -73.962300        40.763057         -73.979032   \n",
       "77048          12.5        -73.973397        40.784545          -0.116667   \n",
       "77532           8.9        -73.975138        40.741650          -7.003355   \n",
       "82680           5.7        -73.964317        40.773350         -73.963500   \n",
       "87194           4.1         -1.216667        40.783922         -73.954310   \n",
       "99263           6.1         -7.999920        40.734600         -73.984215   \n",
       "101779          6.9         -0.947412        40.790680         -73.957062   \n",
       "103745         12.9       -736.216667        40.767035         -73.982377   \n",
       "113876          8.9        -73.968915         0.666667         -73.978255   \n",
       "129303         10.1         -0.128333         0.966785         -74.000577   \n",
       "130112         10.9        -73.961250        40.801672          -7.990505   \n",
       "136727          8.1         -7.500000        40.746720         -73.989973   \n",
       "138075          2.9        -73.977795        40.757315          -0.116667   \n",
       "144073          6.1        -73.997260        40.731502          -0.066667   \n",
       "144253          7.3       -768.550000        40.757812         -73.997040   \n",
       "145709          7.7        -73.995277        40.717490          -0.333333   \n",
       "146281          6.1        -73.985387         0.083332         -73.993192   \n",
       "151065          7.3        -73.993172         0.669237         -74.002320   \n",
       "161652          4.1       -735.433332        40.740605         -74.006373   \n",
       "169299          8.9         -7.983207        40.767492         -73.967277   \n",
       "177439          7.7         -1.216667        40.772347         -73.960592   \n",
       "190768          5.7        -73.978315        40.748417          -3.975457   \n",
       "\n",
       "        dropoff_latitude  passenger_count  kilo_meters  HOUR      MONTH  \\\n",
       "1945           40.749953              1.0  6021.122795    16   February   \n",
       "2167           40.734670              1.0  5941.068194    12       July   \n",
       "4949           40.734192              1.0  3828.765626     0      April   \n",
       "6594           40.793807              1.0  5885.536926    19       June   \n",
       "17926          40.774010              1.0  5651.404503    11   February   \n",
       "19846           0.760607              3.0  4445.388733    11  September   \n",
       "32549          40.697862              2.0  4644.274242    10       June   \n",
       "36390          40.723965              1.0  5445.829910    15      March   \n",
       "36780          40.757332              2.0  5448.448068    11      March   \n",
       "40908          35.174169              1.0  3487.798706    19       July   \n",
       "59717          40.741702              2.0  6028.292410     1      April   \n",
       "60414          40.745385              1.0  5418.666469     1    January   \n",
       "70889          -0.000013              1.0  8667.705423    16       June   \n",
       "72518           4.078052              1.0  4079.192546    21   February   \n",
       "77048          40.750467              1.0  6019.510573     9    October   \n",
       "77532          40.747352              1.0  5495.001542     8   December   \n",
       "82680           4.068682              2.0  4081.378632     9   December   \n",
       "87194          40.779332              3.0  5933.378733    13   December   \n",
       "99263          40.737330              1.0  5419.255291     1   February   \n",
       "101779         40.771520              1.0  5954.059108    21      April   \n",
       "103745         40.725562              1.0  4773.701356    19    October   \n",
       "113876         40.786552              1.0  4461.134071    20    October   \n",
       "129303         40.762683              1.0  8585.341373    13        May   \n",
       "130112         40.761437              1.0  5414.249806    14       June   \n",
       "136727         40.757320              2.0  5457.052567    16   November   \n",
       "138075         40.754547              1.0  6020.976282    19  September   \n",
       "144073         40.728990              1.0  6028.746711    13        May   \n",
       "144253         40.740007              1.0  2136.046705    11     August   \n",
       "145709         40.731828              1.0  6008.963537    14     August   \n",
       "146281         40.762007              1.0  4523.268741    20    January   \n",
       "151065         40.730042              1.0  4454.564662    21        May   \n",
       "161652         40.739607              1.0  4838.101091    12        May   \n",
       "169299         40.787930              1.0  5415.615321    14        May   \n",
       "177439         40.773115              2.0  5934.712960    23      April   \n",
       "190768         40.757267              1.0  5727.580621     9    October   \n",
       "\n",
       "              DAY  \n",
       "1945       Sunday  \n",
       "2167     Saturday  \n",
       "4949     Saturday  \n",
       "6594      Tuesday  \n",
       "17926    Saturday  \n",
       "19846      Sunday  \n",
       "32549    Saturday  \n",
       "36390     Tuesday  \n",
       "36780   Wednesday  \n",
       "40908    Thursday  \n",
       "59717    Saturday  \n",
       "60414    Saturday  \n",
       "70889     Tuesday  \n",
       "72518      Friday  \n",
       "77048     Tuesday  \n",
       "77532    Thursday  \n",
       "82680    Thursday  \n",
       "87194      Friday  \n",
       "99263      Friday  \n",
       "101779   Thursday  \n",
       "103745     Friday  \n",
       "113876     Monday  \n",
       "129303     Friday  \n",
       "130112     Sunday  \n",
       "136727    Tuesday  \n",
       "138075     Monday  \n",
       "144073     Sunday  \n",
       "144253  Wednesday  \n",
       "145709   Saturday  \n",
       "146281     Sunday  \n",
       "151065     Monday  \n",
       "161652  Wednesday  \n",
       "169299     Friday  \n",
       "177439  Wednesday  \n",
       "190768   Saturday  "
      ]
     },
     "execution_count": 58,
     "metadata": {},
     "output_type": "execute_result"
    }
   ],
   "source": [
    "df[df['kilo_meters']>2000]"
   ]
  },
  {
   "cell_type": "markdown",
   "id": "744ebc30",
   "metadata": {
    "id": "744ebc30"
   },
   "source": [
    "# compare kilometers with fare amount , i think data is wrong so we will delete outliers"
   ]
  },
  {
   "cell_type": "code",
   "execution_count": 59,
   "id": "d3fbf073",
   "metadata": {
    "colab": {
     "base_uri": "https://localhost:8080/"
    },
    "id": "d3fbf073",
    "outputId": "e963e8de-6990-4fa5-ddcd-1930477bfb58"
   },
   "outputs": [
    {
     "data": {
      "text/plain": [
       "7064"
      ]
     },
     "execution_count": 59,
     "metadata": {},
     "output_type": "execute_result"
    }
   ],
   "source": [
    "outliers_indices1 = detect_outliers(df , 0 , ['kilo_meters'])\n",
    "len (outliers_indices1)"
   ]
  },
  {
   "cell_type": "code",
   "execution_count": 60,
   "id": "acf04d51",
   "metadata": {
    "id": "acf04d51"
   },
   "outputs": [],
   "source": [
    "df.drop(outliers_indices1 , inplace= True)"
   ]
  },
  {
   "cell_type": "code",
   "execution_count": 61,
   "id": "2971f118",
   "metadata": {
    "colab": {
     "base_uri": "https://localhost:8080/",
     "height": 632
    },
    "id": "2971f118",
    "outputId": "1389697c-a54a-4121-f4f5-7d78d5822323"
   },
   "outputs": [
    {
     "data": {
      "text/plain": [
       "<AxesSubplot:xlabel='kilo_meters'>"
      ]
     },
     "execution_count": 61,
     "metadata": {},
     "output_type": "execute_result"
    },
    {
     "data": {
      "image/png": "[encoded data removed]",
      "text/plain": [
       "<Figure size 720x720 with 1 Axes>"
      ]
     },
     "metadata": {},
     "output_type": "display_data"
    }
   ],
   "source": [
    "sns.boxplot(data = df , x='kilo_meters')"
   ]
  },
  {
   "cell_type": "code",
   "execution_count": null,
   "id": "jf__L_uehEoY",
   "metadata": {
    "colab": {
     "base_uri": "https://localhost:8080/",
     "height": 165
    },
    "id": "jf__L_uehEoY",
    "outputId": "7d0da001-4b75-4d7f-be2b-0b14abeec822"
   },
   "outputs": [],
   "source": []
  },
  {
   "cell_type": "code",
   "execution_count": 62,
   "id": "afc7f9e0",
   "metadata": {
    "colab": {
     "base_uri": "https://localhost:8080/",
     "height": 488
    },
    "id": "afc7f9e0",
    "outputId": "68850af0-f910-4644-e9b0-8ee55ecf1fe2"
   },
   "outputs": [
    {
     "data": {
      "text/html": [
       "<div>\n",
       "<style scoped>\n",
       "    .dataframe tbody tr th:only-of-type {\n",
       "        vertical-align: middle;\n",
       "    }\n",
       "\n",
       "    .dataframe tbody tr th {\n",
       "        vertical-align: top;\n",
       "    }\n",
       "\n",
       "    .dataframe thead th {\n",
       "        text-align: right;\n",
       "    }\n",
       "</style>\n",
       "<table border=\"1\" class=\"dataframe\">\n",
       "  <thead>\n",
       "    <tr style=\"text-align: right;\">\n",
       "      <th></th>\n",
       "      <th>fare_amount</th>\n",
       "      <th>pickup_longitude</th>\n",
       "      <th>pickup_latitude</th>\n",
       "      <th>dropoff_longitude</th>\n",
       "      <th>dropoff_latitude</th>\n",
       "      <th>passenger_count</th>\n",
       "      <th>kilo_meters</th>\n",
       "      <th>HOUR</th>\n",
       "      <th>MONTH</th>\n",
       "      <th>DAY</th>\n",
       "    </tr>\n",
       "  </thead>\n",
       "  <tbody>\n",
       "    <tr>\n",
       "      <th>0</th>\n",
       "      <td>7.5</td>\n",
       "      <td>-73.999817</td>\n",
       "      <td>40.738354</td>\n",
       "      <td>-73.999512</td>\n",
       "      <td>40.723217</td>\n",
       "      <td>1.0</td>\n",
       "      <td>1.683325</td>\n",
       "      <td>19</td>\n",
       "      <td>May</td>\n",
       "      <td>Thursday</td>\n",
       "    </tr>\n",
       "    <tr>\n",
       "      <th>1</th>\n",
       "      <td>7.7</td>\n",
       "      <td>-73.994355</td>\n",
       "      <td>40.728225</td>\n",
       "      <td>-73.994710</td>\n",
       "      <td>40.750325</td>\n",
       "      <td>1.0</td>\n",
       "      <td>2.457593</td>\n",
       "      <td>20</td>\n",
       "      <td>July</td>\n",
       "      <td>Friday</td>\n",
       "    </tr>\n",
       "    <tr>\n",
       "      <th>2</th>\n",
       "      <td>12.9</td>\n",
       "      <td>-74.005043</td>\n",
       "      <td>40.740770</td>\n",
       "      <td>-73.962565</td>\n",
       "      <td>40.772647</td>\n",
       "      <td>1.0</td>\n",
       "      <td>5.036384</td>\n",
       "      <td>21</td>\n",
       "      <td>August</td>\n",
       "      <td>Monday</td>\n",
       "    </tr>\n",
       "    <tr>\n",
       "      <th>3</th>\n",
       "      <td>5.3</td>\n",
       "      <td>-73.976124</td>\n",
       "      <td>40.790844</td>\n",
       "      <td>-73.965316</td>\n",
       "      <td>40.803349</td>\n",
       "      <td>3.0</td>\n",
       "      <td>1.661686</td>\n",
       "      <td>8</td>\n",
       "      <td>June</td>\n",
       "      <td>Friday</td>\n",
       "    </tr>\n",
       "    <tr>\n",
       "      <th>5</th>\n",
       "      <td>4.9</td>\n",
       "      <td>-73.969019</td>\n",
       "      <td>40.755910</td>\n",
       "      <td>-73.969019</td>\n",
       "      <td>40.755910</td>\n",
       "      <td>1.0</td>\n",
       "      <td>0.000000</td>\n",
       "      <td>2</td>\n",
       "      <td>February</td>\n",
       "      <td>Saturday</td>\n",
       "    </tr>\n",
       "    <tr>\n",
       "      <th>...</th>\n",
       "      <td>...</td>\n",
       "      <td>...</td>\n",
       "      <td>...</td>\n",
       "      <td>...</td>\n",
       "      <td>...</td>\n",
       "      <td>...</td>\n",
       "      <td>...</td>\n",
       "      <td>...</td>\n",
       "      <td>...</td>\n",
       "      <td>...</td>\n",
       "    </tr>\n",
       "    <tr>\n",
       "      <th>199994</th>\n",
       "      <td>12.0</td>\n",
       "      <td>-73.983070</td>\n",
       "      <td>40.760770</td>\n",
       "      <td>-73.972972</td>\n",
       "      <td>40.754177</td>\n",
       "      <td>1.0</td>\n",
       "      <td>1.122879</td>\n",
       "      <td>14</td>\n",
       "      <td>January</td>\n",
       "      <td>Friday</td>\n",
       "    </tr>\n",
       "    <tr>\n",
       "      <th>199995</th>\n",
       "      <td>3.0</td>\n",
       "      <td>-73.987042</td>\n",
       "      <td>40.739367</td>\n",
       "      <td>-73.986525</td>\n",
       "      <td>40.740297</td>\n",
       "      <td>1.0</td>\n",
       "      <td>0.112210</td>\n",
       "      <td>10</td>\n",
       "      <td>October</td>\n",
       "      <td>Sunday</td>\n",
       "    </tr>\n",
       "    <tr>\n",
       "      <th>199996</th>\n",
       "      <td>7.5</td>\n",
       "      <td>-73.984722</td>\n",
       "      <td>40.736837</td>\n",
       "      <td>-74.006672</td>\n",
       "      <td>40.739620</td>\n",
       "      <td>1.0</td>\n",
       "      <td>1.875053</td>\n",
       "      <td>1</td>\n",
       "      <td>March</td>\n",
       "      <td>Friday</td>\n",
       "    </tr>\n",
       "    <tr>\n",
       "      <th>199998</th>\n",
       "      <td>14.5</td>\n",
       "      <td>-73.997124</td>\n",
       "      <td>40.725452</td>\n",
       "      <td>-73.983215</td>\n",
       "      <td>40.695415</td>\n",
       "      <td>1.0</td>\n",
       "      <td>3.539720</td>\n",
       "      <td>14</td>\n",
       "      <td>May</td>\n",
       "      <td>Wednesday</td>\n",
       "    </tr>\n",
       "    <tr>\n",
       "      <th>199999</th>\n",
       "      <td>14.1</td>\n",
       "      <td>-73.984395</td>\n",
       "      <td>40.720077</td>\n",
       "      <td>-73.985508</td>\n",
       "      <td>40.768793</td>\n",
       "      <td>1.0</td>\n",
       "      <td>5.417791</td>\n",
       "      <td>4</td>\n",
       "      <td>May</td>\n",
       "      <td>Saturday</td>\n",
       "    </tr>\n",
       "  </tbody>\n",
       "</table>\n",
       "<p>151352 rows × 10 columns</p>\n",
       "</div>"
      ],
      "text/plain": [
       "        fare_amount  pickup_longitude  pickup_latitude  dropoff_longitude  \\\n",
       "0               7.5        -73.999817        40.738354         -73.999512   \n",
       "1               7.7        -73.994355        40.728225         -73.994710   \n",
       "2              12.9        -74.005043        40.740770         -73.962565   \n",
       "3               5.3        -73.976124        40.790844         -73.965316   \n",
       "5               4.9        -73.969019        40.755910         -73.969019   \n",
       "...             ...               ...              ...                ...   \n",
       "199994         12.0        -73.983070        40.760770         -73.972972   \n",
       "199995          3.0        -73.987042        40.739367         -73.986525   \n",
       "199996          7.5        -73.984722        40.736837         -74.006672   \n",
       "199998         14.5        -73.997124        40.725452         -73.983215   \n",
       "199999         14.1        -73.984395        40.720077         -73.985508   \n",
       "\n",
       "        dropoff_latitude  passenger_count  kilo_meters  HOUR     MONTH  \\\n",
       "0              40.723217              1.0     1.683325    19       May   \n",
       "1              40.750325              1.0     2.457593    20      July   \n",
       "2              40.772647              1.0     5.036384    21    August   \n",
       "3              40.803349              3.0     1.661686     8      June   \n",
       "5              40.755910              1.0     0.000000     2  February   \n",
       "...                  ...              ...          ...   ...       ...   \n",
       "199994         40.754177              1.0     1.122879    14   January   \n",
       "199995         40.740297              1.0     0.112210    10   October   \n",
       "199996         40.739620              1.0     1.875053     1     March   \n",
       "199998         40.695415              1.0     3.539720    14       May   \n",
       "199999         40.768793              1.0     5.417791     4       May   \n",
       "\n",
       "              DAY  \n",
       "0        Thursday  \n",
       "1          Friday  \n",
       "2          Monday  \n",
       "3          Friday  \n",
       "5        Saturday  \n",
       "...           ...  \n",
       "199994     Friday  \n",
       "199995     Sunday  \n",
       "199996     Friday  \n",
       "199998  Wednesday  \n",
       "199999   Saturday  \n",
       "\n",
       "[151352 rows x 10 columns]"
      ]
     },
     "execution_count": 62,
     "metadata": {},
     "output_type": "execute_result"
    }
   ],
   "source": [
    "df"
   ]
  },
  {
   "cell_type": "code",
   "execution_count": 63,
   "id": "43eadbb3",
   "metadata": {
    "colab": {
     "base_uri": "https://localhost:8080/"
    },
    "id": "43eadbb3",
    "outputId": "5a30f7f6-3236-4a7b-832c-3dd30d48c1a7",
    "scrolled": true
   },
   "outputs": [
    {
     "data": {
      "text/plain": [
       "1611"
      ]
     },
     "execution_count": 63,
     "metadata": {},
     "output_type": "execute_result"
    }
   ],
   "source": [
    "value_0 = df[df['kilo_meters'] == 0]\n",
    "len(value_0)"
   ]
  },
  {
   "cell_type": "code",
   "execution_count": 64,
   "id": "95d36eea",
   "metadata": {
    "colab": {
     "base_uri": "https://localhost:8080/"
    },
    "id": "95d36eea",
    "outputId": "fe6eec27-0c98-4bd1-fc3a-9b78d3c84357"
   },
   "outputs": [
    {
     "data": {
      "text/plain": [
       "2.261719668798268"
      ]
     },
     "execution_count": 64,
     "metadata": {},
     "output_type": "execute_result"
    }
   ],
   "source": [
    "df['kilo_meters'].mean()"
   ]
  },
  {
   "cell_type": "code",
   "execution_count": 65,
   "id": "5d9ab93a",
   "metadata": {
    "id": "5d9ab93a"
   },
   "outputs": [],
   "source": [
    "def replace_0_to_nan(x):\n",
    "    if x == 0 :\n",
    "        return 2.2626911772248626\n",
    "    else:\n",
    "        return x \n",
    "    "
   ]
  },
  {
   "cell_type": "code",
   "execution_count": 66,
   "id": "ebf5765c",
   "metadata": {
    "id": "ebf5765c"
   },
   "outputs": [],
   "source": [
    "df['kilo_meters'] = df['kilo_meters'].apply(replace_0_to_nan)"
   ]
  },
  {
   "cell_type": "code",
   "execution_count": 67,
   "id": "f62b3ef8",
   "metadata": {
    "colab": {
     "base_uri": "https://localhost:8080/"
    },
    "id": "f62b3ef8",
    "outputId": "4a4281ea-5942-4913-ef1f-bd0b6f156004"
   },
   "outputs": [
    {
     "data": {
      "text/plain": [
       "0"
      ]
     },
     "execution_count": 67,
     "metadata": {},
     "output_type": "execute_result"
    }
   ],
   "source": [
    "value_0 = df[df['kilo_meters'] == 0]\n",
    "len(value_0)"
   ]
  },
  {
   "cell_type": "code",
   "execution_count": 68,
   "id": "afe65d73",
   "metadata": {
    "colab": {
     "base_uri": "https://localhost:8080/"
    },
    "id": "afe65d73",
    "outputId": "0f87908d-ca4f-40ab-e833-a3190613f1d7"
   },
   "outputs": [
    {
     "data": {
      "text/plain": [
       "count    151352.000000\n",
       "mean          2.285804\n",
       "std           1.416484\n",
       "min           0.000084\n",
       "25%           1.195485\n",
       "50%           1.947851\n",
       "75%           3.059477\n",
       "max           6.468454\n",
       "Name: kilo_meters, dtype: float64"
      ]
     },
     "execution_count": 68,
     "metadata": {},
     "output_type": "execute_result"
    }
   ],
   "source": [
    "df['kilo_meters'].describe()"
   ]
  },
  {
   "cell_type": "code",
   "execution_count": 69,
   "id": "d6415608",
   "metadata": {
    "colab": {
     "base_uri": "https://localhost:8080/",
     "height": 724
    },
    "id": "d6415608",
    "outputId": "5606efa4-5161-4dff-d3b8-c8f50ae2bfd8"
   },
   "outputs": [
    {
     "data": {
      "text/plain": [
       "<AxesSubplot:>"
      ]
     },
     "execution_count": 69,
     "metadata": {},
     "output_type": "execute_result"
    },
    {
     "data": {
      "image/png": "[encoded data removed]",
      "text/plain": [
       "<Figure size 720x720 with 2 Axes>"
      ]
     },
     "metadata": {},
     "output_type": "display_data"
    }
   ],
   "source": [
    "sns.heatmap(df.corr(),annot=True)"
   ]
  },
  {
   "cell_type": "code",
   "execution_count": 70,
   "id": "agaH4EWKYhtz",
   "metadata": {
    "colab": {
     "base_uri": "https://localhost:8080/",
     "height": 344
    },
    "id": "agaH4EWKYhtz",
    "outputId": "d43f2016-be69-4582-8936-48c99179932c"
   },
   "outputs": [
    {
     "data": {
      "text/html": [
       "<div>\n",
       "<style scoped>\n",
       "    .dataframe tbody tr th:only-of-type {\n",
       "        vertical-align: middle;\n",
       "    }\n",
       "\n",
       "    .dataframe tbody tr th {\n",
       "        vertical-align: top;\n",
       "    }\n",
       "\n",
       "    .dataframe thead th {\n",
       "        text-align: right;\n",
       "    }\n",
       "</style>\n",
       "<table border=\"1\" class=\"dataframe\">\n",
       "  <thead>\n",
       "    <tr style=\"text-align: right;\">\n",
       "      <th></th>\n",
       "      <th>fare_amount</th>\n",
       "      <th>pickup_longitude</th>\n",
       "      <th>pickup_latitude</th>\n",
       "      <th>dropoff_longitude</th>\n",
       "      <th>dropoff_latitude</th>\n",
       "      <th>passenger_count</th>\n",
       "      <th>kilo_meters</th>\n",
       "      <th>HOUR</th>\n",
       "    </tr>\n",
       "  </thead>\n",
       "  <tbody>\n",
       "    <tr>\n",
       "      <th>fare_amount</th>\n",
       "      <td>1.000000</td>\n",
       "      <td>0.001582</td>\n",
       "      <td>-0.002295</td>\n",
       "      <td>0.002029</td>\n",
       "      <td>-0.002681</td>\n",
       "      <td>0.016806</td>\n",
       "      <td>0.790512</td>\n",
       "      <td>0.005499</td>\n",
       "    </tr>\n",
       "    <tr>\n",
       "      <th>pickup_longitude</th>\n",
       "      <td>0.001582</td>\n",
       "      <td>1.000000</td>\n",
       "      <td>-0.989877</td>\n",
       "      <td>0.999973</td>\n",
       "      <td>-0.989884</td>\n",
       "      <td>0.000087</td>\n",
       "      <td>-0.013331</td>\n",
       "      <td>0.004948</td>\n",
       "    </tr>\n",
       "    <tr>\n",
       "      <th>pickup_latitude</th>\n",
       "      <td>-0.002295</td>\n",
       "      <td>-0.989877</td>\n",
       "      <td>1.000000</td>\n",
       "      <td>-0.989891</td>\n",
       "      <td>0.999964</td>\n",
       "      <td>-0.000489</td>\n",
       "      <td>0.011684</td>\n",
       "      <td>-0.003945</td>\n",
       "    </tr>\n",
       "    <tr>\n",
       "      <th>dropoff_longitude</th>\n",
       "      <td>0.002029</td>\n",
       "      <td>0.999973</td>\n",
       "      <td>-0.989891</td>\n",
       "      <td>1.000000</td>\n",
       "      <td>-0.989867</td>\n",
       "      <td>0.000119</td>\n",
       "      <td>-0.012622</td>\n",
       "      <td>0.004786</td>\n",
       "    </tr>\n",
       "    <tr>\n",
       "      <th>dropoff_latitude</th>\n",
       "      <td>-0.002681</td>\n",
       "      <td>-0.989884</td>\n",
       "      <td>0.999964</td>\n",
       "      <td>-0.989867</td>\n",
       "      <td>1.000000</td>\n",
       "      <td>-0.000472</td>\n",
       "      <td>0.011671</td>\n",
       "      <td>-0.003960</td>\n",
       "    </tr>\n",
       "    <tr>\n",
       "      <th>passenger_count</th>\n",
       "      <td>0.016806</td>\n",
       "      <td>0.000087</td>\n",
       "      <td>-0.000489</td>\n",
       "      <td>0.000119</td>\n",
       "      <td>-0.000472</td>\n",
       "      <td>1.000000</td>\n",
       "      <td>0.012059</td>\n",
       "      <td>0.034578</td>\n",
       "    </tr>\n",
       "    <tr>\n",
       "      <th>kilo_meters</th>\n",
       "      <td>0.790512</td>\n",
       "      <td>-0.013331</td>\n",
       "      <td>0.011684</td>\n",
       "      <td>-0.012622</td>\n",
       "      <td>0.011671</td>\n",
       "      <td>0.012059</td>\n",
       "      <td>1.000000</td>\n",
       "      <td>-0.014381</td>\n",
       "    </tr>\n",
       "    <tr>\n",
       "      <th>HOUR</th>\n",
       "      <td>0.005499</td>\n",
       "      <td>0.004948</td>\n",
       "      <td>-0.003945</td>\n",
       "      <td>0.004786</td>\n",
       "      <td>-0.003960</td>\n",
       "      <td>0.034578</td>\n",
       "      <td>-0.014381</td>\n",
       "      <td>1.000000</td>\n",
       "    </tr>\n",
       "  </tbody>\n",
       "</table>\n",
       "</div>"
      ],
      "text/plain": [
       "                   fare_amount  pickup_longitude  pickup_latitude  \\\n",
       "fare_amount           1.000000          0.001582        -0.002295   \n",
       "pickup_longitude      0.001582          1.000000        -0.989877   \n",
       "pickup_latitude      -0.002295         -0.989877         1.000000   \n",
       "dropoff_longitude     0.002029          0.999973        -0.989891   \n",
       "dropoff_latitude     -0.002681         -0.989884         0.999964   \n",
       "passenger_count       0.016806          0.000087        -0.000489   \n",
       "kilo_meters           0.790512         -0.013331         0.011684   \n",
       "HOUR                  0.005499          0.004948        -0.003945   \n",
       "\n",
       "                   dropoff_longitude  dropoff_latitude  passenger_count  \\\n",
       "fare_amount                 0.002029         -0.002681         0.016806   \n",
       "pickup_longitude            0.999973         -0.989884         0.000087   \n",
       "pickup_latitude            -0.989891          0.999964        -0.000489   \n",
       "dropoff_longitude           1.000000         -0.989867         0.000119   \n",
       "dropoff_latitude           -0.989867          1.000000        -0.000472   \n",
       "passenger_count             0.000119         -0.000472         1.000000   \n",
       "kilo_meters                -0.012622          0.011671         0.012059   \n",
       "HOUR                        0.004786         -0.003960         0.034578   \n",
       "\n",
       "                   kilo_meters      HOUR  \n",
       "fare_amount           0.790512  0.005499  \n",
       "pickup_longitude     -0.013331  0.004948  \n",
       "pickup_latitude       0.011684 -0.003945  \n",
       "dropoff_longitude    -0.012622  0.004786  \n",
       "dropoff_latitude      0.011671 -0.003960  \n",
       "passenger_count       0.012059  0.034578  \n",
       "kilo_meters           1.000000 -0.014381  \n",
       "HOUR                 -0.014381  1.000000  "
      ]
     },
     "execution_count": 70,
     "metadata": {},
     "output_type": "execute_result"
    }
   ],
   "source": [
    "df.corr()"
   ]
  },
  {
   "cell_type": "code",
   "execution_count": 71,
   "id": "dc148e25",
   "metadata": {
    "id": "dc148e25"
   },
   "outputs": [],
   "source": [
    "X = df.drop(['fare_amount', 'pickup_longitude','pickup_latitude','dropoff_longitude','dropoff_latitude'],axis = 1)\n",
    "y = df['fare_amount']"
   ]
  },
  {
   "cell_type": "code",
   "execution_count": 72,
   "id": "8c114754",
   "metadata": {
    "colab": {
     "base_uri": "https://localhost:8080/",
     "height": 424
    },
    "id": "8c114754",
    "outputId": "03e4a82b-d8d9-4a0e-f283-b581e163aa41"
   },
   "outputs": [
    {
     "data": {
      "text/html": [
       "<div>\n",
       "<style scoped>\n",
       "    .dataframe tbody tr th:only-of-type {\n",
       "        vertical-align: middle;\n",
       "    }\n",
       "\n",
       "    .dataframe tbody tr th {\n",
       "        vertical-align: top;\n",
       "    }\n",
       "\n",
       "    .dataframe thead th {\n",
       "        text-align: right;\n",
       "    }\n",
       "</style>\n",
       "<table border=\"1\" class=\"dataframe\">\n",
       "  <thead>\n",
       "    <tr style=\"text-align: right;\">\n",
       "      <th></th>\n",
       "      <th>passenger_count</th>\n",
       "      <th>kilo_meters</th>\n",
       "      <th>HOUR</th>\n",
       "      <th>MONTH</th>\n",
       "      <th>DAY</th>\n",
       "    </tr>\n",
       "  </thead>\n",
       "  <tbody>\n",
       "    <tr>\n",
       "      <th>0</th>\n",
       "      <td>1.0</td>\n",
       "      <td>1.683325</td>\n",
       "      <td>19</td>\n",
       "      <td>May</td>\n",
       "      <td>Thursday</td>\n",
       "    </tr>\n",
       "    <tr>\n",
       "      <th>1</th>\n",
       "      <td>1.0</td>\n",
       "      <td>2.457593</td>\n",
       "      <td>20</td>\n",
       "      <td>July</td>\n",
       "      <td>Friday</td>\n",
       "    </tr>\n",
       "    <tr>\n",
       "      <th>2</th>\n",
       "      <td>1.0</td>\n",
       "      <td>5.036384</td>\n",
       "      <td>21</td>\n",
       "      <td>August</td>\n",
       "      <td>Monday</td>\n",
       "    </tr>\n",
       "    <tr>\n",
       "      <th>3</th>\n",
       "      <td>3.0</td>\n",
       "      <td>1.661686</td>\n",
       "      <td>8</td>\n",
       "      <td>June</td>\n",
       "      <td>Friday</td>\n",
       "    </tr>\n",
       "    <tr>\n",
       "      <th>5</th>\n",
       "      <td>1.0</td>\n",
       "      <td>2.262691</td>\n",
       "      <td>2</td>\n",
       "      <td>February</td>\n",
       "      <td>Saturday</td>\n",
       "    </tr>\n",
       "    <tr>\n",
       "      <th>...</th>\n",
       "      <td>...</td>\n",
       "      <td>...</td>\n",
       "      <td>...</td>\n",
       "      <td>...</td>\n",
       "      <td>...</td>\n",
       "    </tr>\n",
       "    <tr>\n",
       "      <th>199994</th>\n",
       "      <td>1.0</td>\n",
       "      <td>1.122879</td>\n",
       "      <td>14</td>\n",
       "      <td>January</td>\n",
       "      <td>Friday</td>\n",
       "    </tr>\n",
       "    <tr>\n",
       "      <th>199995</th>\n",
       "      <td>1.0</td>\n",
       "      <td>0.112210</td>\n",
       "      <td>10</td>\n",
       "      <td>October</td>\n",
       "      <td>Sunday</td>\n",
       "    </tr>\n",
       "    <tr>\n",
       "      <th>199996</th>\n",
       "      <td>1.0</td>\n",
       "      <td>1.875053</td>\n",
       "      <td>1</td>\n",
       "      <td>March</td>\n",
       "      <td>Friday</td>\n",
       "    </tr>\n",
       "    <tr>\n",
       "      <th>199998</th>\n",
       "      <td>1.0</td>\n",
       "      <td>3.539720</td>\n",
       "      <td>14</td>\n",
       "      <td>May</td>\n",
       "      <td>Wednesday</td>\n",
       "    </tr>\n",
       "    <tr>\n",
       "      <th>199999</th>\n",
       "      <td>1.0</td>\n",
       "      <td>5.417791</td>\n",
       "      <td>4</td>\n",
       "      <td>May</td>\n",
       "      <td>Saturday</td>\n",
       "    </tr>\n",
       "  </tbody>\n",
       "</table>\n",
       "<p>151352 rows × 5 columns</p>\n",
       "</div>"
      ],
      "text/plain": [
       "        passenger_count  kilo_meters  HOUR     MONTH        DAY\n",
       "0                   1.0     1.683325    19       May   Thursday\n",
       "1                   1.0     2.457593    20      July     Friday\n",
       "2                   1.0     5.036384    21    August     Monday\n",
       "3                   3.0     1.661686     8      June     Friday\n",
       "5                   1.0     2.262691     2  February   Saturday\n",
       "...                 ...          ...   ...       ...        ...\n",
       "199994              1.0     1.122879    14   January     Friday\n",
       "199995              1.0     0.112210    10   October     Sunday\n",
       "199996              1.0     1.875053     1     March     Friday\n",
       "199998              1.0     3.539720    14       May  Wednesday\n",
       "199999              1.0     5.417791     4       May   Saturday\n",
       "\n",
       "[151352 rows x 5 columns]"
      ]
     },
     "execution_count": 72,
     "metadata": {},
     "output_type": "execute_result"
    }
   ],
   "source": [
    "X"
   ]
  },
  {
   "cell_type": "code",
   "execution_count": 73,
   "id": "335e6a49",
   "metadata": {
    "id": "335e6a49"
   },
   "outputs": [],
   "source": [
    "X = pd.get_dummies(X,drop_first = 0)"
   ]
  },
  {
   "cell_type": "code",
   "execution_count": 74,
   "id": "2d7eef77",
   "metadata": {
    "id": "2d7eef77"
   },
   "outputs": [],
   "source": [
    "from sklearn.model_selection import train_test_split\n",
    "x_train,x_test,y_train,y_test = train_test_split(X,y,test_size=0.2,random_state= 0)"
   ]
  },
  {
   "cell_type": "code",
   "execution_count": 75,
   "id": "0121d0fd",
   "metadata": {
    "id": "0121d0fd"
   },
   "outputs": [],
   "source": [
    "from sklearn.preprocessing import StandardScaler\n",
    "scaler = StandardScaler()\n",
    "x_train_scaled = scaler.fit_transform(x_train)\n",
    "x_test_scaled = scaler.transform(x_test)"
   ]
  },
  {
   "cell_type": "code",
   "execution_count": 76,
   "id": "3d2ef88a",
   "metadata": {
    "colab": {
     "base_uri": "https://localhost:8080/"
    },
    "id": "3d2ef88a",
    "outputId": "ceaa5794-da27-4b5e-95d8-7812150d3b2c"
   },
   "outputs": [
    {
     "name": "stdout",
     "output_type": "stream",
     "text": [
      "training R2 0.6290097551821092\n",
      "test R2 0.6312157609195158\n",
      "root men squared error :  5.064156483518394\n"
     ]
    }
   ],
   "source": [
    "from sklearn.linear_model import LinearRegression\n",
    "from sklearn.metrics import mean_squared_error\n",
    "lr = LinearRegression()\n",
    "lr.fit(x_train_scaled,y_train)\n",
    "y_pred = lr.predict(x_test_scaled)\n",
    "print('training R2',lr.score(x_train_scaled,y_train))\n",
    "print('test R2',lr.score(x_test_scaled,y_test))\n",
    "print('root men squared error : ',mean_squared_error(y_test,y_pred))\n"
   ]
  },
  {
   "cell_type": "code",
   "execution_count": 77,
   "id": "521f42d8",
   "metadata": {
    "colab": {
     "base_uri": "https://localhost:8080/"
    },
    "id": "521f42d8",
    "outputId": "97256b1b-d156-4353-c31a-78a666279370"
   },
   "outputs": [
    {
     "name": "stdout",
     "output_type": "stream",
     "text": [
      "training R2 0.6270877702429702\n",
      "test R2 0.628760786616172\n",
      "root men squared error :  5.097868265958305\n"
     ]
    }
   ],
   "source": [
    "from sklearn.tree import DecisionTreeRegressor\n",
    "dt = DecisionTreeRegressor(max_depth=4)\n",
    "dt.fit(x_train_scaled,y_train)\n",
    "y_pred = dt.predict(x_test_scaled)\n",
    "print('training R2',dt.score(x_train_scaled,y_train))\n",
    "print('test R2',dt.score(x_test_scaled,y_test))\n",
    "print('root men squared error : ',mean_squared_error(y_test,y_pred))"
   ]
  },
  {
   "cell_type": "code",
   "execution_count": 78,
   "id": "b71d98fb",
   "metadata": {
    "colab": {
     "base_uri": "https://localhost:8080/"
    },
    "id": "b71d98fb",
    "outputId": "3432cc79-c927-48ff-d097-2161625ed678"
   },
   "outputs": [
    {
     "name": "stdout",
     "output_type": "stream",
     "text": [
      "training R2 0.6556230226795123\n",
      "test R2 0.6508916956416135\n",
      "root men squared error :  4.793965944354789\n"
     ]
    }
   ],
   "source": [
    "from sklearn.ensemble import RandomForestRegressor\n",
    "rf = RandomForestRegressor(max_depth=8)\n",
    "rf.fit(x_train_scaled,y_train)\n",
    "y_pred = rf.predict(x_test_scaled)\n",
    "print('training R2',rf.score(x_train_scaled,y_train))\n",
    "print('test R2',rf.score(x_test_scaled,y_test))\n",
    "print('root men squared error : ',mean_squared_error(y_test,y_pred))"
   ]
  },
  {
   "cell_type": "code",
   "execution_count": 79,
   "id": "27b8925d",
   "metadata": {
    "id": "6b0f07b6"
   },
   "outputs": [],
   "source": [
    "from sklearn.model_selection import KFold\n",
    "from sklearn.model_selection import cross_validate\n",
    "kfold =KFold(n_splits=10)\n",
    "scores = cross_validate(rf,x_train_scaled,y_train,cv=kfold)"
   ]
  },
  {
   "cell_type": "code",
   "execution_count": 80,
   "id": "3ad93cfb",
   "metadata": {
    "colab": {
     "base_uri": "https://localhost:8080/"
    },
    "id": "eda39597",
    "outputId": "f9b6cb3d-29f6-488a-ec8c-37eab513ae8a"
   },
   "outputs": [
    {
     "data": {
      "text/plain": [
       "{'fit_time': array([43.17869925, 43.15377092, 42.11603642, 41.66514754, 41.64619517,\n",
       "        42.99881434, 41.9080925 , 41.9880662 , 41.77309513, 41.55420589]),\n",
       " 'score_time': array([0.14494896, 0.15096354, 0.14496922, 0.15296507, 0.14296651,\n",
       "        0.14598346, 0.14594436, 0.14892817, 0.14396358, 0.14198709]),\n",
       " 'test_score': array([0.64376406, 0.64260926, 0.64239627, 0.65034826, 0.63991396,\n",
       "        0.63498036, 0.64294534, 0.65855485, 0.66970934, 0.63365122])}"
      ]
     },
     "execution_count": 80,
     "metadata": {},
     "output_type": "execute_result"
    }
   ],
   "source": [
    "scores"
   ]
  },
  {
   "cell_type": "markdown",
   "id": "f9f1e4cc",
   "metadata": {
    "colab": {
     "base_uri": "https://localhost:8080/"
    },
    "id": "uhFCqnGca9w1",
    "outputId": "62709fef-d6f5-467e-d26f-efb02669797b"
   },
   "source": [
    "from sklearn.model_selection import GridSearchCV\n",
    "parm= {'n_estimators':[100,200,300,400,555],'max_depth':[6,8,10,12]}\n",
    "grid = GridSearchCV(rf,param_grid=parm,cv=10)\n",
    "grid.fit(x_train_scaled,y_train)\n"
   ]
  },
  {
   "cell_type": "code",
   "execution_count": 82,
   "id": "ae0c6d22",
   "metadata": {},
   "outputs": [],
   "source": [
    "X = df.drop(['fare_amount', 'pickup_longitude','pickup_latitude','dropoff_longitude','dropoff_latitude'],axis = 1)\n",
    "y = df['fare_amount']"
   ]
  },
  {
   "cell_type": "code",
   "execution_count": 83,
   "id": "981e6250",
   "metadata": {},
   "outputs": [],
   "source": [
    "x_train,x_test,y_train,y_test = train_test_split(X,y,test_size=0.2,random_state= 0)"
   ]
  },
  {
   "cell_type": "code",
   "execution_count": 84,
   "id": "7afca84e",
   "metadata": {
    "id": "7afca84e"
   },
   "outputs": [],
   "source": [
    "numeric_column = x_train.select_dtypes(exclude='object').columns"
   ]
  },
  {
   "cell_type": "code",
   "execution_count": 85,
   "id": "476de9bf",
   "metadata": {
    "id": "476de9bf"
   },
   "outputs": [],
   "source": [
    "cat_column = x_train.select_dtypes(include='object').columns"
   ]
  },
  {
   "cell_type": "code",
   "execution_count": 86,
   "id": "3051a1a0",
   "metadata": {
    "id": "3051a1a0"
   },
   "outputs": [],
   "source": [
    "from sklearn.pipeline import Pipeline\n",
    "from sklearn.impute import SimpleImputer\n",
    "from sklearn.preprocessing import OneHotEncoder\n",
    "numeric_transformer = Pipeline([('scaler',StandardScaler(with_mean=False))])"
   ]
  },
  {
   "cell_type": "code",
   "execution_count": 87,
   "id": "a9139ec1",
   "metadata": {
    "id": "a9139ec1"
   },
   "outputs": [],
   "source": [
    "cat_transformer = Pipeline([('encode',OneHotEncoder()),\n",
    "                            ('scaler',StandardScaler(with_mean=False))])"
   ]
  },
  {
   "cell_type": "code",
   "execution_count": 88,
   "id": "236c0d5c",
   "metadata": {
    "id": "236c0d5c"
   },
   "outputs": [],
   "source": [
    "from sklearn.compose import ColumnTransformer\n",
    "preprocess = ColumnTransformer(transformers=[('num',numeric_transformer,numeric_column),\n",
    "                                             ('cat',cat_transformer,cat_column)])"
   ]
  },
  {
   "cell_type": "code",
   "execution_count": 89,
   "id": "43d3bd9c",
   "metadata": {
    "colab": {
     "base_uri": "https://localhost:8080/"
    },
    "id": "43d3bd9c",
    "outputId": "195a851b-9366-4be1-8329-9df9b79da2a7"
   },
   "outputs": [
    {
     "data": {
      "text/plain": [
       "ColumnTransformer(transformers=[('num',\n",
       "                                 Pipeline(steps=[('scaler',\n",
       "                                                  StandardScaler(with_mean=False))]),\n",
       "                                 Index(['passenger_count', 'kilo_meters', 'HOUR'], dtype='object')),\n",
       "                                ('cat',\n",
       "                                 Pipeline(steps=[('encode', OneHotEncoder()),\n",
       "                                                 ('scaler',\n",
       "                                                  StandardScaler(with_mean=False))]),\n",
       "                                 Index(['MONTH', 'DAY'], dtype='object'))])"
      ]
     },
     "execution_count": 89,
     "metadata": {},
     "output_type": "execute_result"
    }
   ],
   "source": [
    "preprocess"
   ]
  },
  {
   "cell_type": "code",
   "execution_count": 90,
   "id": "23677b5b",
   "metadata": {
    "id": "23677b5b"
   },
   "outputs": [],
   "source": [
    "pipe = Pipeline([('preprocc',preprocess),\n",
    "                 ('model',RandomForestRegressor(max_depth= 5, n_estimators= 300))])"
   ]
  },
  {
   "cell_type": "code",
   "execution_count": 91,
   "id": "1988e56d",
   "metadata": {
    "colab": {
     "base_uri": "https://localhost:8080/"
    },
    "id": "1988e56d",
    "outputId": "647bc03a-b57f-45b9-cacd-1f79f1ace914"
   },
   "outputs": [
    {
     "data": {
      "text/plain": [
       "Pipeline(steps=[('preprocc',\n",
       "                 ColumnTransformer(transformers=[('num',\n",
       "                                                  Pipeline(steps=[('scaler',\n",
       "                                                                   StandardScaler(with_mean=False))]),\n",
       "                                                  Index(['passenger_count', 'kilo_meters', 'HOUR'], dtype='object')),\n",
       "                                                 ('cat',\n",
       "                                                  Pipeline(steps=[('encode',\n",
       "                                                                   OneHotEncoder()),\n",
       "                                                                  ('scaler',\n",
       "                                                                   StandardScaler(with_mean=False))]),\n",
       "                                                  Index(['MONTH', 'DAY'], dtype='object'))])),\n",
       "                ('model',\n",
       "                 RandomForestRegressor(max_depth=5, n_estimators=300))])"
      ]
     },
     "execution_count": 91,
     "metadata": {},
     "output_type": "execute_result"
    }
   ],
   "source": [
    "pipe"
   ]
  },
  {
   "cell_type": "code",
   "execution_count": 92,
   "id": "0b40a937",
   "metadata": {
    "colab": {
     "base_uri": "https://localhost:8080/"
    },
    "id": "0b40a937",
    "outputId": "b4f74c11-259e-4ab1-e8da-6d4f86e5e1ee"
   },
   "outputs": [
    {
     "data": {
      "text/plain": [
       "Pipeline(steps=[('preprocc',\n",
       "                 ColumnTransformer(transformers=[('num',\n",
       "                                                  Pipeline(steps=[('scaler',\n",
       "                                                                   StandardScaler(with_mean=False))]),\n",
       "                                                  Index(['passenger_count', 'kilo_meters', 'HOUR'], dtype='object')),\n",
       "                                                 ('cat',\n",
       "                                                  Pipeline(steps=[('encode',\n",
       "                                                                   OneHotEncoder()),\n",
       "                                                                  ('scaler',\n",
       "                                                                   StandardScaler(with_mean=False))]),\n",
       "                                                  Index(['MONTH', 'DAY'], dtype='object'))])),\n",
       "                ('model',\n",
       "                 RandomForestRegressor(max_depth=5, n_estimators=300))])"
      ]
     },
     "execution_count": 92,
     "metadata": {},
     "output_type": "execute_result"
    }
   ],
   "source": [
    "pipe.fit(x_train,y_train)"
   ]
  },
  {
   "cell_type": "code",
   "execution_count": 93,
   "id": "bf284a1d",
   "metadata": {
    "colab": {
     "base_uri": "https://localhost:8080/"
    },
    "id": "bf284a1d",
    "outputId": "f53009c2-18a4-42a1-9af7-2ae7942dc0fc"
   },
   "outputs": [
    {
     "data": {
      "text/plain": [
       "['model.pkl']"
      ]
     },
     "execution_count": 93,
     "metadata": {},
     "output_type": "execute_result"
    }
   ],
   "source": [
    "import joblib \n",
    "joblib.dump(pipe,'model.pkl')"
   ]
  },
  {
   "cell_type": "code",
   "execution_count": 94,
   "id": "8551f4dc",
   "metadata": {
    "id": "8551f4dc"
   },
   "outputs": [],
   "source": [
    "model = joblib.load('model.pkl')"
   ]
  },
  {
   "cell_type": "code",
   "execution_count": 95,
   "id": "335655d2",
   "metadata": {},
   "outputs": [
    {
     "data": {
      "text/html": [
       "<div>\n",
       "<style scoped>\n",
       "    .dataframe tbody tr th:only-of-type {\n",
       "        vertical-align: middle;\n",
       "    }\n",
       "\n",
       "    .dataframe tbody tr th {\n",
       "        vertical-align: top;\n",
       "    }\n",
       "\n",
       "    .dataframe thead th {\n",
       "        text-align: right;\n",
       "    }\n",
       "</style>\n",
       "<table border=\"1\" class=\"dataframe\">\n",
       "  <thead>\n",
       "    <tr style=\"text-align: right;\">\n",
       "      <th></th>\n",
       "      <th>fare_amount</th>\n",
       "      <th>pickup_longitude</th>\n",
       "      <th>pickup_latitude</th>\n",
       "      <th>dropoff_longitude</th>\n",
       "      <th>dropoff_latitude</th>\n",
       "      <th>passenger_count</th>\n",
       "      <th>kilo_meters</th>\n",
       "      <th>HOUR</th>\n",
       "      <th>MONTH</th>\n",
       "      <th>DAY</th>\n",
       "    </tr>\n",
       "  </thead>\n",
       "  <tbody>\n",
       "    <tr>\n",
       "      <th>0</th>\n",
       "      <td>7.5</td>\n",
       "      <td>-73.999817</td>\n",
       "      <td>40.738354</td>\n",
       "      <td>-73.999512</td>\n",
       "      <td>40.723217</td>\n",
       "      <td>1.0</td>\n",
       "      <td>1.683325</td>\n",
       "      <td>19</td>\n",
       "      <td>May</td>\n",
       "      <td>Thursday</td>\n",
       "    </tr>\n",
       "    <tr>\n",
       "      <th>1</th>\n",
       "      <td>7.7</td>\n",
       "      <td>-73.994355</td>\n",
       "      <td>40.728225</td>\n",
       "      <td>-73.994710</td>\n",
       "      <td>40.750325</td>\n",
       "      <td>1.0</td>\n",
       "      <td>2.457593</td>\n",
       "      <td>20</td>\n",
       "      <td>July</td>\n",
       "      <td>Friday</td>\n",
       "    </tr>\n",
       "    <tr>\n",
       "      <th>2</th>\n",
       "      <td>12.9</td>\n",
       "      <td>-74.005043</td>\n",
       "      <td>40.740770</td>\n",
       "      <td>-73.962565</td>\n",
       "      <td>40.772647</td>\n",
       "      <td>1.0</td>\n",
       "      <td>5.036384</td>\n",
       "      <td>21</td>\n",
       "      <td>August</td>\n",
       "      <td>Monday</td>\n",
       "    </tr>\n",
       "    <tr>\n",
       "      <th>3</th>\n",
       "      <td>5.3</td>\n",
       "      <td>-73.976124</td>\n",
       "      <td>40.790844</td>\n",
       "      <td>-73.965316</td>\n",
       "      <td>40.803349</td>\n",
       "      <td>3.0</td>\n",
       "      <td>1.661686</td>\n",
       "      <td>8</td>\n",
       "      <td>June</td>\n",
       "      <td>Friday</td>\n",
       "    </tr>\n",
       "    <tr>\n",
       "      <th>5</th>\n",
       "      <td>4.9</td>\n",
       "      <td>-73.969019</td>\n",
       "      <td>40.755910</td>\n",
       "      <td>-73.969019</td>\n",
       "      <td>40.755910</td>\n",
       "      <td>1.0</td>\n",
       "      <td>2.262691</td>\n",
       "      <td>2</td>\n",
       "      <td>February</td>\n",
       "      <td>Saturday</td>\n",
       "    </tr>\n",
       "    <tr>\n",
       "      <th>...</th>\n",
       "      <td>...</td>\n",
       "      <td>...</td>\n",
       "      <td>...</td>\n",
       "      <td>...</td>\n",
       "      <td>...</td>\n",
       "      <td>...</td>\n",
       "      <td>...</td>\n",
       "      <td>...</td>\n",
       "      <td>...</td>\n",
       "      <td>...</td>\n",
       "    </tr>\n",
       "    <tr>\n",
       "      <th>199994</th>\n",
       "      <td>12.0</td>\n",
       "      <td>-73.983070</td>\n",
       "      <td>40.760770</td>\n",
       "      <td>-73.972972</td>\n",
       "      <td>40.754177</td>\n",
       "      <td>1.0</td>\n",
       "      <td>1.122879</td>\n",
       "      <td>14</td>\n",
       "      <td>January</td>\n",
       "      <td>Friday</td>\n",
       "    </tr>\n",
       "    <tr>\n",
       "      <th>199995</th>\n",
       "      <td>3.0</td>\n",
       "      <td>-73.987042</td>\n",
       "      <td>40.739367</td>\n",
       "      <td>-73.986525</td>\n",
       "      <td>40.740297</td>\n",
       "      <td>1.0</td>\n",
       "      <td>0.112210</td>\n",
       "      <td>10</td>\n",
       "      <td>October</td>\n",
       "      <td>Sunday</td>\n",
       "    </tr>\n",
       "    <tr>\n",
       "      <th>199996</th>\n",
       "      <td>7.5</td>\n",
       "      <td>-73.984722</td>\n",
       "      <td>40.736837</td>\n",
       "      <td>-74.006672</td>\n",
       "      <td>40.739620</td>\n",
       "      <td>1.0</td>\n",
       "      <td>1.875053</td>\n",
       "      <td>1</td>\n",
       "      <td>March</td>\n",
       "      <td>Friday</td>\n",
       "    </tr>\n",
       "    <tr>\n",
       "      <th>199998</th>\n",
       "      <td>14.5</td>\n",
       "      <td>-73.997124</td>\n",
       "      <td>40.725452</td>\n",
       "      <td>-73.983215</td>\n",
       "      <td>40.695415</td>\n",
       "      <td>1.0</td>\n",
       "      <td>3.539720</td>\n",
       "      <td>14</td>\n",
       "      <td>May</td>\n",
       "      <td>Wednesday</td>\n",
       "    </tr>\n",
       "    <tr>\n",
       "      <th>199999</th>\n",
       "      <td>14.1</td>\n",
       "      <td>-73.984395</td>\n",
       "      <td>40.720077</td>\n",
       "      <td>-73.985508</td>\n",
       "      <td>40.768793</td>\n",
       "      <td>1.0</td>\n",
       "      <td>5.417791</td>\n",
       "      <td>4</td>\n",
       "      <td>May</td>\n",
       "      <td>Saturday</td>\n",
       "    </tr>\n",
       "  </tbody>\n",
       "</table>\n",
       "<p>151352 rows × 10 columns</p>\n",
       "</div>"
      ],
      "text/plain": [
       "        fare_amount  pickup_longitude  pickup_latitude  dropoff_longitude  \\\n",
       "0               7.5        -73.999817        40.738354         -73.999512   \n",
       "1               7.7        -73.994355        40.728225         -73.994710   \n",
       "2              12.9        -74.005043        40.740770         -73.962565   \n",
       "3               5.3        -73.976124        40.790844         -73.965316   \n",
       "5               4.9        -73.969019        40.755910         -73.969019   \n",
       "...             ...               ...              ...                ...   \n",
       "199994         12.0        -73.983070        40.760770         -73.972972   \n",
       "199995          3.0        -73.987042        40.739367         -73.986525   \n",
       "199996          7.5        -73.984722        40.736837         -74.006672   \n",
       "199998         14.5        -73.997124        40.725452         -73.983215   \n",
       "199999         14.1        -73.984395        40.720077         -73.985508   \n",
       "\n",
       "        dropoff_latitude  passenger_count  kilo_meters  HOUR     MONTH  \\\n",
       "0              40.723217              1.0     1.683325    19       May   \n",
       "1              40.750325              1.0     2.457593    20      July   \n",
       "2              40.772647              1.0     5.036384    21    August   \n",
       "3              40.803349              3.0     1.661686     8      June   \n",
       "5              40.755910              1.0     2.262691     2  February   \n",
       "...                  ...              ...          ...   ...       ...   \n",
       "199994         40.754177              1.0     1.122879    14   January   \n",
       "199995         40.740297              1.0     0.112210    10   October   \n",
       "199996         40.739620              1.0     1.875053     1     March   \n",
       "199998         40.695415              1.0     3.539720    14       May   \n",
       "199999         40.768793              1.0     5.417791     4       May   \n",
       "\n",
       "              DAY  \n",
       "0        Thursday  \n",
       "1          Friday  \n",
       "2          Monday  \n",
       "3          Friday  \n",
       "5        Saturday  \n",
       "...           ...  \n",
       "199994     Friday  \n",
       "199995     Sunday  \n",
       "199996     Friday  \n",
       "199998  Wednesday  \n",
       "199999   Saturday  \n",
       "\n",
       "[151352 rows x 10 columns]"
      ]
     },
     "execution_count": 95,
     "metadata": {},
     "output_type": "execute_result"
    }
   ],
   "source": [
    "df"
   ]
  },
  {
   "cell_type": "code",
   "execution_count": 96,
   "id": "1e99a945",
   "metadata": {
    "id": "1e99a945"
   },
   "outputs": [
    {
     "name": "stdout",
     "output_type": "stream",
     "text": [
      "Overwriting app.py\n"
     ]
    }
   ],
   "source": [
    "%%writefile app.py\n",
    "import numpy as np\n",
    "import pandas as pd\n",
    "import streamlit as st \n",
    "import joblib\n",
    "\n",
    "regressor=joblib.load('model.pkl')\n",
    "\n",
    "\n",
    "def welcome():\n",
    "    return \"Welcome All\"\n",
    "\n",
    "\n",
    "def predict_price(passenger_count,kilo_meters,HOUR,MONTH,DAY):\n",
    "  prediction=regressor.predict(pd.DataFrame({'passenger_count':[passenger_count],'kilo_meters':[kilo_meters],'HOUR':[HOUR],'MONTH':[MONTH],'DAY':[DAY]}))\n",
    "  print(prediction)\n",
    "  return  prediction\n",
    "def main():\n",
    "    st.title(\"Uber rate amount predection\")\n",
    "    html_temp = \"\"\"\n",
    "    <div style=\"background-color:tomato;padding:10px\">\n",
    "    <h2 style=\"color:white;text-align:center;\">Streamlit Uber rate amount predection App </h2>\n",
    "    </div>\n",
    "    \"\"\"\n",
    "    st.markdown(html_temp,unsafe_allow_html=True)\n",
    "    passenger_count = st.text_input(\"passenger_count\",\"Type Here\")\n",
    "    kilo_meters = st.text_input(\"kilo_meters\",\"Type Here\")\n",
    "    HOUR = st.text_input(\"HOUR\",\"Type Here\")\n",
    "    MONTH = st.text_input(\"MONTH\",\"Type Here\")\n",
    "    DAY = st.text_input(\"DAY\",\"Type Here\")\n",
    "    result=\"\"\n",
    "    if st.button(\"Predict\"):\n",
    "        result=predict_price(passenger_count,kilo_meters, HOUR, MONTH,DAY)\n",
    "    st.success('The rate is {} USD'.format(result))\n",
    "    if st.button(\"About\"):\n",
    "        st.text(\"our app using streamlit\")\n",
    "        st.text(\"best of luck in your GP\")\n",
    "if __name__=='__main__':\n",
    "    main()        \n"
   ]
  },
  {
   "cell_type": "code",
   "execution_count": null,
   "id": "8b5a4e2a",
   "metadata": {},
   "outputs": [],
   "source": [
    "!streamlit run app.py"
   ]
  },
  {
   "cell_type": "code",
   "execution_count": null,
   "id": "78a7bd04",
   "metadata": {},
   "outputs": [],
   "source": []
  }
 ],
 "metadata": {
  "colab": {
   "provenance": []
  },
  "kernelspec": {
   "display_name": "Python 3 (ipykernel)",
   "language": "python",
   "name": "python3"
  },
  "language_info": {
   "codemirror_mode": {
    "name": "ipython",
    "version": 3
   },
   "file_extension": ".py",
   "mimetype": "text/x-python",
   "name": "python",
   "nbconvert_exporter": "python",
   "pygments_lexer": "ipython3",
   "version": "3.9.7"
  }
 },
 "nbformat": 4,
 "nbformat_minor": 5
}
